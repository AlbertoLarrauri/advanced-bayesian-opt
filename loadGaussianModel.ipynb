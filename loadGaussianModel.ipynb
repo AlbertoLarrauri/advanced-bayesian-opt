{
 "cells": [
  {
   "cell_type": "code",
   "execution_count": 1,
   "metadata": {
    "pycharm": {
     "is_executing": true
    }
   },
   "outputs": [
    {
     "name": "stderr",
     "output_type": "stream",
     "text": [
      "2022-02-14 16:36:56.836860: W tensorflow/stream_executor/platform/default/dso_loader.cc:64] Could not load dynamic library 'libcudart.so.11.0'; dlerror: libcudart.so.11.0: cannot open shared object file: No such file or directory\n",
      "2022-02-14 16:36:56.836889: I tensorflow/stream_executor/cuda/cudart_stub.cc:29] Ignore above cudart dlerror if you do not have a GPU set up on your machine.\n"
     ]
    }
   ],
   "source": [
    "import time\n",
    "# import IPython\n",
    "import os\n",
    "import json\n",
    "from datetime import datetime\n",
    "import pyswarm\n",
    "import pandas\n",
    "\n",
    "import joblib\n",
    "import numpy as np\n",
    "import matplotlib.pyplot as plt\n",
    "# from mpl_toolkits.mplot3d import Axes3D\n",
    "import tensorflow.compat.v2 as tf\n",
    "import tensorflow_probability as tfp\n",
    "from tensorflow import keras\n",
    "import tensorflow.keras.backend as K\n",
    "from pyswarm import pso\n",
    "\n",
    "\n",
    "from keras.models import Sequential, Model\n",
    "# from tensorflow.keras.layers import Input, Dense, Dropout, BatchNormalization, Lambda, Layer\n",
    "# from tensorflow.keras import losses\n",
    "# from keras.utils.vis_utils import plot_model, model_to_dot\n",
    "\n",
    "from sklearn.preprocessing import StandardScaler, MinMaxScaler\n",
    "import sklearn.preprocessing\n",
    "\n",
    "# from sklearn.model_selection import train_test_split\n",
    "# from sklearn.metrics import r2_score, mean_absolute_error, median_absolute_error\n",
    "\n",
    "K.set_floatx('float32')\n",
    "\n",
    "tfb = tfp.bijectors\n",
    "tfd = tfp.distributions\n",
    "tfk = tfp.math.psd_kernels\n",
    "\n",
    "tf.enable_v2_behavior()\n",
    "\n",
    "from tester.tester import Tester\n",
    "\n",
    "import random"
   ]
  },
  {
   "cell_type": "code",
   "execution_count": 2,
   "metadata": {
    "pycharm": {
     "name": "#%%\n"
    }
   },
   "outputs": [
    {
     "data": {
      "text/plain": [
       "'./2022_02_02_11_45_57'"
      ]
     },
     "execution_count": 2,
     "metadata": {},
     "output_type": "execute_result"
    }
   ],
   "source": [
    "lb = [2.2, 1.08, -40.]  # lower bounds of the design variables, i.e. input params for the sut_model\n",
    "ub = [2.8, 1.41, 175.] \n",
    "log_path = os.path.join('.','2022_02_02_11_45_57')\n",
    "log_path"
   ]
  },
  {
   "cell_type": "code",
   "execution_count": 3,
   "metadata": {},
   "outputs": [
    {
     "data": {
      "text/plain": [
       "{'num_samples': 90,\n",
       " 'training_proportion': 0.4,\n",
       " 'log_std_coefficient': 4.0,\n",
       " 'constant_std_coefficient': 10.0}"
      ]
     },
     "execution_count": 3,
     "metadata": {},
     "output_type": "execute_result"
    }
   ],
   "source": [
    "path = os.path.join(log_path, 'run_stats.txt')\n",
    "with open(path, 'r') as file:\n",
    "    run_stats = json.load(file)    \n",
    "\n",
    "    \n",
    "num_samples = run_stats['num_samples']\n",
    "training_proportion = run_stats['training_proportion']\n",
    "optimization_proportion = 1. - training_proportion\n",
    "\n",
    "log_std_coefficient = run_stats['log_std_coefficient']\n",
    "constant_std_coefficient = run_stats['constant_std_coefficient']\n",
    "\n",
    "run_stats"
   ]
  },
  {
   "cell_type": "code",
   "execution_count": 4,
   "metadata": {},
   "outputs": [],
   "source": [
    "path = os.path.join(log_path, 'training.npyz')\n",
    "with open(path, 'rb') as file:\n",
    "    training_data = np.load(file)\n",
    "    training_Xs=training_data['points']\n",
    "    training_ys=training_data['values']\n",
    "    norm_training_Xs=training_data['norm_points']\n",
    "    norm_training_ys=training_data['norm_values']\n",
    "    lls_=training_data['loss']\n",
    "    amplitude= training_data['amplitude']\n",
    "    relevances= training_data['relevances']\n",
    "    noise_var= training_data['noise']\n",
    "    "
   ]
  },
  {
   "cell_type": "code",
   "execution_count": 5,
   "metadata": {},
   "outputs": [
    {
     "name": "stderr",
     "output_type": "stream",
     "text": [
      "/home/llarrauriborroto/Documents/Projects/advanced-bayesian-opt/lib/python3.8/site-packages/sklearn/utils/deprecation.py:144: FutureWarning: The sklearn.preprocessing.data module is  deprecated in version 0.22 and will be removed in version 0.24. The corresponding classes / functions should instead be imported from sklearn.preprocessing. Anything that cannot be imported from sklearn.preprocessing is now part of the private API.\n",
      "  warnings.warn(message, FutureWarning)\n",
      "/home/llarrauriborroto/Documents/Projects/advanced-bayesian-opt/lib/python3.8/site-packages/sklearn/base.py:313: UserWarning: Trying to unpickle estimator StandardScaler from version 0.21.2 when using version 0.22. This might lead to breaking code or invalid results. Use at your own risk.\n",
      "  warnings.warn(\n"
     ]
    }
   ],
   "source": [
    "path=os.path.join(log_path,'scaler_X.pkl')\n",
    "transform_X = joblib.load(path)\n",
    "path=os.path.join(log_path,'scaler_y.pkl')\n",
    "transform_y = joblib.load(path)\n",
    "\n",
    "\n",
    "norm_ub = transform_X.transform([ub])[0].astype(np.float32)\n",
    "norm_lb = transform_X.transform([lb])[0].astype(np.float32)"
   ]
  },
  {
   "cell_type": "code",
   "execution_count": 6,
   "metadata": {},
   "outputs": [
    {
     "data": {
      "text/plain": [
       "array([[-6.5746409e-01,  7.9247320e-01,  3.1435958e-01],\n",
       "       [-1.4335691e+00,  1.1691469e+00,  1.8002299e+00],\n",
       "       [ 1.4069648e+00,  2.8772721e-01, -2.9525402e-01],\n",
       "       [-8.0025381e-01, -9.1955401e-03, -1.3617047e+00],\n",
       "       [ 1.4156972e+00, -1.4581923e-01,  1.5757395e+00],\n",
       "       [-7.4009560e-02, -6.1279529e-01, -7.6441221e-02],\n",
       "       [-1.3028796e+00, -1.3552508e-01, -2.1362278e-01],\n",
       "       [ 1.3602543e+00, -1.1075428e+00, -1.3642615e+00],\n",
       "       [ 4.2772049e-01, -1.5899147e+00,  5.1299298e-01],\n",
       "       [-1.6112735e+00,  1.2588590e+00,  5.4188740e-01],\n",
       "       [ 8.4195518e-01, -1.3057866e+00, -1.4391132e-01],\n",
       "       [ 9.3965244e-01,  1.0618591e+00,  1.6533769e+00],\n",
       "       [ 3.4241548e-01, -7.2742063e-01, -6.8281013e-01],\n",
       "       [ 2.4771629e-01, -5.1306891e-01,  1.1951725e+00],\n",
       "       [ 1.1934350e+00,  1.4929132e+00, -5.3798890e-01],\n",
       "       [-8.9138126e-01,  1.1031135e+00, -2.2115713e-01],\n",
       "       [-1.4777659e+00, -7.7756751e-01, -1.2372029e+00],\n",
       "       [ 9.3503523e-01, -1.6357511e+00,  1.9449065e+00],\n",
       "       [-1.2032562e+00,  1.8742748e-01, -1.1265728e+00],\n",
       "       [ 7.7950597e-01,  5.3165451e-02,  3.0160469e-01],\n",
       "       [ 9.8285156e-01, -1.4777396e+00, -1.5623949e-01],\n",
       "       [-1.7920250e-01,  1.1901960e+00,  7.2076410e-01],\n",
       "       [ 2.9980639e-01,  7.7398086e-01, -3.6066290e-02],\n",
       "       [-1.4759781e+00,  2.8839153e-01, -5.1000029e-01],\n",
       "       [-7.1453238e-01,  7.1240151e-01, -1.5686271e-01],\n",
       "       [-8.8684964e-01,  6.8321878e-01, -1.0047095e+00],\n",
       "       [ 7.0133060e-01, -1.5598271e+00,  1.5147294e-01],\n",
       "       [-1.3331544e+00, -6.3199025e-01, -6.1464822e-01],\n",
       "       [ 9.0007913e-01,  2.6789389e-04, -3.6204451e-01],\n",
       "       [-7.0562130e-01,  5.4229671e-01, -1.4409946e+00],\n",
       "       [ 6.4281034e-01,  1.6551052e-01, -6.5739548e-01],\n",
       "       [ 1.1561476e+00, -1.5470647e+00,  7.7797878e-01],\n",
       "       [ 6.0615706e-01,  1.2875546e+00, -1.4439548e+00],\n",
       "       [ 6.8129420e-01, -1.6017673e+00,  1.9908609e+00],\n",
       "       [-1.5841653e+00,  1.3071589e+00,  1.2123665e+00],\n",
       "       [ 4.7052833e-01,  1.0211134e+00, -1.0498701e+00]], dtype=float32)"
      ]
     },
     "execution_count": 6,
     "metadata": {},
     "output_type": "execute_result"
    }
   ],
   "source": [
    "norm_training_Xs\n"
   ]
  },
  {
   "cell_type": "code",
   "execution_count": 7,
   "metadata": {},
   "outputs": [
    {
     "name": "stderr",
     "output_type": "stream",
     "text": [
      "2022-02-03 13:55:56.056827: W tensorflow/stream_executor/platform/default/dso_loader.cc:64] Could not load dynamic library 'libcuda.so.1'; dlerror: libcuda.so.1: cannot open shared object file: No such file or directory\n",
      "2022-02-03 13:55:56.056885: W tensorflow/stream_executor/cuda/cuda_driver.cc:269] failed call to cuInit: UNKNOWN ERROR (303)\n",
      "2022-02-03 13:55:56.056933: I tensorflow/stream_executor/cuda/cuda_diagnostics.cc:156] kernel driver does not appear to be running on this host (t460slalb): /proc/driver/nvidia/version does not exist\n",
      "2022-02-03 13:55:56.058694: I tensorflow/core/platform/cpu_feature_guard.cc:151] This TensorFlow binary is optimized with oneAPI Deep Neural Network Library (oneDNN) to use the following CPU instructions in performance-critical operations:  AVX2 FMA\n",
      "To enable them in other operations, rebuild TensorFlow with the appropriate compiler flags.\n"
     ]
    },
    {
     "data": {
      "text/plain": [
       "<tf.Tensor: shape=(), dtype=float32, numpy=-0.70216036>"
      ]
     },
     "execution_count": 7,
     "metadata": {},
     "output_type": "execute_result"
    }
   ],
   "source": [
    "kernel = tfk.ExponentiatedQuadratic(amplitude, length_scale=1.0)\n",
    "kernel = tfk.FeatureScaled(kernel, scale_diag=relevances)\n",
    "gp_model = tfd.GaussianProcessRegressionModel(\n",
    "    kernel=kernel,\n",
    "    index_points=[[1.2353002 , -0.7703848 ,  1.1779659]],\n",
    "    observation_index_points=norm_training_Xs,\n",
    "    observations=norm_training_ys,\n",
    "    observation_noise_variance=noise_var,\n",
    "    predictive_noise_variance=0.,\n",
    "    jitter=1e-4)\n",
    "\n",
    "gp_model.mean()"
   ]
  },
  {
   "cell_type": "code",
   "execution_count": 8,
   "metadata": {},
   "outputs": [],
   "source": [
    "path = os.path.join(log_path, 'optimization_rounds.npyz')\n",
    "with open(path, 'rb') as file:\n",
    "    optimization_data = np.load(file)\n",
    "    real_values=optimization_data['values']\n",
    "    real_choices=optimization_data['choices']\n",
    "    mean_regrets=optimization_data['mean_regrets']\n"
   ]
  },
  {
   "cell_type": "code",
   "execution_count": 9,
   "metadata": {},
   "outputs": [],
   "source": [
    "values= transform_y.transform(real_values.reshape(-1,1))\n",
    "choices= np.array(transform_X.transform(real_choices), dtype=np.float32)\n",
    "values=np.array(values.flatten(),dtype=np.float32)\n"
   ]
  },
  {
   "cell_type": "code",
   "execution_count": 10,
   "metadata": {},
   "outputs": [],
   "source": [
    "with open('./validation_samples.csv', newline='') as csvfile:\n",
    "    reader = pandas.read_csv(csvfile,delimiter=';')\n",
    "\n",
    "    "
   ]
  },
  {
   "cell_type": "code",
   "execution_count": 11,
   "metadata": {},
   "outputs": [
    {
     "data": {
      "text/plain": [
       "array([1.1358706, 1.1368585, 1.1351925, 1.1358836, 1.1360306, 1.1358907,\n",
       "       1.1360339, 1.1364375, 1.1354318, 1.1368771, 1.1355588, 1.1351693,\n",
       "       1.1355171, 1.1366564, 1.1355258, 1.1364679, 1.1351839, 1.1355072,\n",
       "       1.1367997, 1.1362889, 1.1356931, 1.1361024, 1.1364578, 1.1362821,\n",
       "       1.1356711, 1.1364207, 1.13606  , 1.135202 , 1.1364651, 1.1368988,\n",
       "       1.1362838, 1.1363529, 1.1360463, 1.1361046, 1.1366583, 1.1357262,\n",
       "       1.1369414, 1.1357428, 1.1357831, 1.136063 , 1.1362301, 1.1356227,\n",
       "       1.1358867, 1.13674  , 1.1357781, 1.1356245, 1.1360408, 1.1358778,\n",
       "       1.1364481, 1.135764 , 1.1357431, 1.1368895, 1.1366053, 1.1364717],\n",
       "      dtype=float32)"
      ]
     },
     "execution_count": 11,
     "metadata": {},
     "output_type": "execute_result"
    }
   ],
   "source": [
    "real_values"
   ]
  },
  {
   "cell_type": "code",
   "execution_count": 12,
   "metadata": {},
   "outputs": [
    {
     "data": {
      "text/html": [
       "<div>\n",
       "<style scoped>\n",
       "    .dataframe tbody tr th:only-of-type {\n",
       "        vertical-align: middle;\n",
       "    }\n",
       "\n",
       "    .dataframe tbody tr th {\n",
       "        vertical-align: top;\n",
       "    }\n",
       "\n",
       "    .dataframe thead th {\n",
       "        text-align: right;\n",
       "    }\n",
       "</style>\n",
       "<table border=\"1\" class=\"dataframe\">\n",
       "  <thead>\n",
       "    <tr style=\"text-align: right;\">\n",
       "      <th></th>\n",
       "      <th>Parameter Label</th>\n",
       "      <th>Pattern</th>\n",
       "      <th>Run</th>\n",
       "      <th>Measurement Name</th>\n",
       "      <th>corner</th>\n",
       "      <th>p_vdda_evr</th>\n",
       "      <th>p_vdda_hpbg</th>\n",
       "      <th>p_vddpd</th>\n",
       "      <th>p_vref</th>\n",
       "      <th>p_vss</th>\n",
       "      <th>temperature</th>\n",
       "      <th>trimbg</th>\n",
       "      <th>trimcur</th>\n",
       "      <th>Unnamed: 13</th>\n",
       "      <th>Value</th>\n",
       "      <th>MC Mean</th>\n",
       "      <th>MC Stddev</th>\n",
       "      <th>Cp</th>\n",
       "      <th>Cpk</th>\n",
       "      <th>Unit</th>\n",
       "    </tr>\n",
       "  </thead>\n",
       "  <tbody>\n",
       "    <tr>\n",
       "      <th>4860</th>\n",
       "      <td>V_ref_1v133_untrimmed</td>\n",
       "      <td>hpbg_startup_trimall2</td>\n",
       "      <td>RUN0001</td>\n",
       "      <td>V_ref_1v133_untrimmed</td>\n",
       "      <td>nom</td>\n",
       "      <td>2.2</td>\n",
       "      <td>2.2</td>\n",
       "      <td>1.08</td>\n",
       "      <td>0.6</td>\n",
       "      <td>0</td>\n",
       "      <td>-40</td>\n",
       "      <td>64</td>\n",
       "      <td>16</td>\n",
       "      <td>NaN</td>\n",
       "      <td>1.136468</td>\n",
       "      <td></td>\n",
       "      <td></td>\n",
       "      <td></td>\n",
       "      <td></td>\n",
       "      <td>V</td>\n",
       "    </tr>\n",
       "    <tr>\n",
       "      <th>4861</th>\n",
       "      <td>V_ref_1v133_untrimmed</td>\n",
       "      <td>hpbg_startup_trimall2</td>\n",
       "      <td>RUN0002</td>\n",
       "      <td>V_ref_1v133_untrimmed</td>\n",
       "      <td>nom</td>\n",
       "      <td>2.2</td>\n",
       "      <td>2.2</td>\n",
       "      <td>1.12</td>\n",
       "      <td>0.6</td>\n",
       "      <td>0</td>\n",
       "      <td>-40</td>\n",
       "      <td>64</td>\n",
       "      <td>16</td>\n",
       "      <td>NaN</td>\n",
       "      <td>1.136453</td>\n",
       "      <td></td>\n",
       "      <td></td>\n",
       "      <td></td>\n",
       "      <td></td>\n",
       "      <td>V</td>\n",
       "    </tr>\n",
       "    <tr>\n",
       "      <th>4862</th>\n",
       "      <td>V_ref_1v133_untrimmed</td>\n",
       "      <td>hpbg_startup_trimall2</td>\n",
       "      <td>RUN0003</td>\n",
       "      <td>V_ref_1v133_untrimmed</td>\n",
       "      <td>nom</td>\n",
       "      <td>2.2</td>\n",
       "      <td>2.2</td>\n",
       "      <td>1.16</td>\n",
       "      <td>0.6</td>\n",
       "      <td>0</td>\n",
       "      <td>-40</td>\n",
       "      <td>64</td>\n",
       "      <td>16</td>\n",
       "      <td>NaN</td>\n",
       "      <td>1.136481</td>\n",
       "      <td></td>\n",
       "      <td></td>\n",
       "      <td></td>\n",
       "      <td></td>\n",
       "      <td>V</td>\n",
       "    </tr>\n",
       "    <tr>\n",
       "      <th>4863</th>\n",
       "      <td>V_ref_1v133_untrimmed</td>\n",
       "      <td>hpbg_startup_trimall2</td>\n",
       "      <td>RUN0004</td>\n",
       "      <td>V_ref_1v133_untrimmed</td>\n",
       "      <td>nom</td>\n",
       "      <td>2.2</td>\n",
       "      <td>2.2</td>\n",
       "      <td>1.20</td>\n",
       "      <td>0.6</td>\n",
       "      <td>0</td>\n",
       "      <td>-40</td>\n",
       "      <td>64</td>\n",
       "      <td>16</td>\n",
       "      <td>NaN</td>\n",
       "      <td>1.136483</td>\n",
       "      <td></td>\n",
       "      <td></td>\n",
       "      <td></td>\n",
       "      <td></td>\n",
       "      <td>V</td>\n",
       "    </tr>\n",
       "    <tr>\n",
       "      <th>4864</th>\n",
       "      <td>V_ref_1v133_untrimmed</td>\n",
       "      <td>hpbg_startup_trimall2</td>\n",
       "      <td>RUN0005</td>\n",
       "      <td>V_ref_1v133_untrimmed</td>\n",
       "      <td>nom</td>\n",
       "      <td>2.2</td>\n",
       "      <td>2.2</td>\n",
       "      <td>1.24</td>\n",
       "      <td>0.6</td>\n",
       "      <td>0</td>\n",
       "      <td>-40</td>\n",
       "      <td>64</td>\n",
       "      <td>16</td>\n",
       "      <td>NaN</td>\n",
       "      <td>1.136455</td>\n",
       "      <td></td>\n",
       "      <td></td>\n",
       "      <td></td>\n",
       "      <td></td>\n",
       "      <td>V</td>\n",
       "    </tr>\n",
       "    <tr>\n",
       "      <th>...</th>\n",
       "      <td>...</td>\n",
       "      <td>...</td>\n",
       "      <td>...</td>\n",
       "      <td>...</td>\n",
       "      <td>...</td>\n",
       "      <td>...</td>\n",
       "      <td>...</td>\n",
       "      <td>...</td>\n",
       "      <td>...</td>\n",
       "      <td>...</td>\n",
       "      <td>...</td>\n",
       "      <td>...</td>\n",
       "      <td>...</td>\n",
       "      <td>...</td>\n",
       "      <td>...</td>\n",
       "      <td>...</td>\n",
       "      <td>...</td>\n",
       "      <td>...</td>\n",
       "      <td>...</td>\n",
       "      <td>...</td>\n",
       "    </tr>\n",
       "    <tr>\n",
       "      <th>5827</th>\n",
       "      <td>V_ref_1v133_untrimmed</td>\n",
       "      <td>hpbg_startup_trimall2</td>\n",
       "      <td>RUN0968</td>\n",
       "      <td>V_ref_1v133_untrimmed</td>\n",
       "      <td>nom</td>\n",
       "      <td>2.8</td>\n",
       "      <td>2.8</td>\n",
       "      <td>1.24</td>\n",
       "      <td>0.6</td>\n",
       "      <td>0</td>\n",
       "      <td>175</td>\n",
       "      <td>64</td>\n",
       "      <td>16</td>\n",
       "      <td>NaN</td>\n",
       "      <td>1.135183</td>\n",
       "      <td></td>\n",
       "      <td></td>\n",
       "      <td></td>\n",
       "      <td></td>\n",
       "      <td>V</td>\n",
       "    </tr>\n",
       "    <tr>\n",
       "      <th>5828</th>\n",
       "      <td>V_ref_1v133_untrimmed</td>\n",
       "      <td>hpbg_startup_trimall2</td>\n",
       "      <td>RUN0969</td>\n",
       "      <td>V_ref_1v133_untrimmed</td>\n",
       "      <td>nom</td>\n",
       "      <td>2.8</td>\n",
       "      <td>2.8</td>\n",
       "      <td>1.28</td>\n",
       "      <td>0.6</td>\n",
       "      <td>0</td>\n",
       "      <td>175</td>\n",
       "      <td>64</td>\n",
       "      <td>16</td>\n",
       "      <td>NaN</td>\n",
       "      <td>1.135178</td>\n",
       "      <td></td>\n",
       "      <td></td>\n",
       "      <td></td>\n",
       "      <td></td>\n",
       "      <td>V</td>\n",
       "    </tr>\n",
       "    <tr>\n",
       "      <th>5829</th>\n",
       "      <td>V_ref_1v133_untrimmed</td>\n",
       "      <td>hpbg_startup_trimall2</td>\n",
       "      <td>RUN0970</td>\n",
       "      <td>V_ref_1v133_untrimmed</td>\n",
       "      <td>nom</td>\n",
       "      <td>2.8</td>\n",
       "      <td>2.8</td>\n",
       "      <td>1.32</td>\n",
       "      <td>0.6</td>\n",
       "      <td>0</td>\n",
       "      <td>175</td>\n",
       "      <td>64</td>\n",
       "      <td>16</td>\n",
       "      <td>NaN</td>\n",
       "      <td>1.135178</td>\n",
       "      <td></td>\n",
       "      <td></td>\n",
       "      <td></td>\n",
       "      <td></td>\n",
       "      <td>V</td>\n",
       "    </tr>\n",
       "    <tr>\n",
       "      <th>5830</th>\n",
       "      <td>V_ref_1v133_untrimmed</td>\n",
       "      <td>hpbg_startup_trimall2</td>\n",
       "      <td>RUN0971</td>\n",
       "      <td>V_ref_1v133_untrimmed</td>\n",
       "      <td>nom</td>\n",
       "      <td>2.8</td>\n",
       "      <td>2.8</td>\n",
       "      <td>1.36</td>\n",
       "      <td>0.6</td>\n",
       "      <td>0</td>\n",
       "      <td>175</td>\n",
       "      <td>64</td>\n",
       "      <td>16</td>\n",
       "      <td>NaN</td>\n",
       "      <td>1.135173</td>\n",
       "      <td></td>\n",
       "      <td></td>\n",
       "      <td></td>\n",
       "      <td></td>\n",
       "      <td>V</td>\n",
       "    </tr>\n",
       "    <tr>\n",
       "      <th>5831</th>\n",
       "      <td>V_ref_1v133_untrimmed</td>\n",
       "      <td>hpbg_startup_trimall2</td>\n",
       "      <td>RUN0972</td>\n",
       "      <td>V_ref_1v133_untrimmed</td>\n",
       "      <td>nom</td>\n",
       "      <td>2.8</td>\n",
       "      <td>2.8</td>\n",
       "      <td>1.41</td>\n",
       "      <td>0.6</td>\n",
       "      <td>0</td>\n",
       "      <td>175</td>\n",
       "      <td>64</td>\n",
       "      <td>16</td>\n",
       "      <td>NaN</td>\n",
       "      <td>1.135193</td>\n",
       "      <td></td>\n",
       "      <td></td>\n",
       "      <td></td>\n",
       "      <td></td>\n",
       "      <td>V</td>\n",
       "    </tr>\n",
       "  </tbody>\n",
       "</table>\n",
       "<p>972 rows × 20 columns</p>\n",
       "</div>"
      ],
      "text/plain": [
       "            Parameter Label                Pattern      Run  \\\n",
       "4860  V_ref_1v133_untrimmed  hpbg_startup_trimall2  RUN0001   \n",
       "4861  V_ref_1v133_untrimmed  hpbg_startup_trimall2  RUN0002   \n",
       "4862  V_ref_1v133_untrimmed  hpbg_startup_trimall2  RUN0003   \n",
       "4863  V_ref_1v133_untrimmed  hpbg_startup_trimall2  RUN0004   \n",
       "4864  V_ref_1v133_untrimmed  hpbg_startup_trimall2  RUN0005   \n",
       "...                     ...                    ...      ...   \n",
       "5827  V_ref_1v133_untrimmed  hpbg_startup_trimall2  RUN0968   \n",
       "5828  V_ref_1v133_untrimmed  hpbg_startup_trimall2  RUN0969   \n",
       "5829  V_ref_1v133_untrimmed  hpbg_startup_trimall2  RUN0970   \n",
       "5830  V_ref_1v133_untrimmed  hpbg_startup_trimall2  RUN0971   \n",
       "5831  V_ref_1v133_untrimmed  hpbg_startup_trimall2  RUN0972   \n",
       "\n",
       "           Measurement Name corner  p_vdda_evr  p_vdda_hpbg  p_vddpd  p_vref  \\\n",
       "4860  V_ref_1v133_untrimmed    nom         2.2          2.2     1.08     0.6   \n",
       "4861  V_ref_1v133_untrimmed    nom         2.2          2.2     1.12     0.6   \n",
       "4862  V_ref_1v133_untrimmed    nom         2.2          2.2     1.16     0.6   \n",
       "4863  V_ref_1v133_untrimmed    nom         2.2          2.2     1.20     0.6   \n",
       "4864  V_ref_1v133_untrimmed    nom         2.2          2.2     1.24     0.6   \n",
       "...                     ...    ...         ...          ...      ...     ...   \n",
       "5827  V_ref_1v133_untrimmed    nom         2.8          2.8     1.24     0.6   \n",
       "5828  V_ref_1v133_untrimmed    nom         2.8          2.8     1.28     0.6   \n",
       "5829  V_ref_1v133_untrimmed    nom         2.8          2.8     1.32     0.6   \n",
       "5830  V_ref_1v133_untrimmed    nom         2.8          2.8     1.36     0.6   \n",
       "5831  V_ref_1v133_untrimmed    nom         2.8          2.8     1.41     0.6   \n",
       "\n",
       "      p_vss  temperature  trimbg  trimcur  Unnamed: 13     Value MC Mean  \\\n",
       "4860      0          -40      64       16          NaN  1.136468           \n",
       "4861      0          -40      64       16          NaN  1.136453           \n",
       "4862      0          -40      64       16          NaN  1.136481           \n",
       "4863      0          -40      64       16          NaN  1.136483           \n",
       "4864      0          -40      64       16          NaN  1.136455           \n",
       "...     ...          ...     ...      ...          ...       ...     ...   \n",
       "5827      0          175      64       16          NaN  1.135183           \n",
       "5828      0          175      64       16          NaN  1.135178           \n",
       "5829      0          175      64       16          NaN  1.135178           \n",
       "5830      0          175      64       16          NaN  1.135173           \n",
       "5831      0          175      64       16          NaN  1.135193           \n",
       "\n",
       "     MC Stddev Cp Cpk Unit  \n",
       "4860                     V  \n",
       "4861                     V  \n",
       "4862                     V  \n",
       "4863                     V  \n",
       "4864                     V  \n",
       "...        ... ..  ..  ...  \n",
       "5827                     V  \n",
       "5828                     V  \n",
       "5829                     V  \n",
       "5830                     V  \n",
       "5831                     V  \n",
       "\n",
       "[972 rows x 20 columns]"
      ]
     },
     "execution_count": 12,
     "metadata": {},
     "output_type": "execute_result"
    }
   ],
   "source": [
    "nom_cols =(reader['corner']=='nom') & (reader['Parameter Label']=='V_ref_1v133_untrimmed')\n",
    "validation_frame= reader[nom_cols]\n",
    "validation_frame\n"
   ]
  },
  {
   "cell_type": "code",
   "execution_count": 13,
   "metadata": {},
   "outputs": [
    {
     "name": "stdout",
     "output_type": "stream",
     "text": [
      "[1.13646789, 1.13645325, 1.13648089, 1.13648258, 1.13645458, 1.13645301, 1.13647462, 1.13646639, 1.13643748, 1.13661531, 1.1366072, 1.13662177, 1.13661863, 1.13660614, 1.13659826, 1.13662052, 1.1366148, 1.13660531, 1.13674418, 1.13675191, 1.13675407, 1.13674355, 1.1367403, 1.13673621, 1.13675145, 1.13674468, 1.13673833, 1.13686901, 1.13689022, 1.13688788, 1.1368802, 1.13687515, 1.13687654, 1.13688254, 1.13688035, 1.13686748, 1.13691227, 1.13692429, 1.13693071, 1.13691271, 1.13692251, 1.1369193, 1.13691801, 1.13691637, 1.13691038, 1.13694765, 1.13695589, 1.13695127, 1.136933, 1.1369461, 1.13694967, 1.13694559, 1.13694857, 1.13693119, 1.13692468, 1.13691953, 1.13692946, 1.13690486, 1.13692096, 1.13692047, 1.13692173, 1.13691878, 1.13689816, 1.13683329, 1.13683392, 1.13683323, 1.13684512, 1.13683316, 1.13683015, 1.13683802, 1.13683841, 1.1368365, 1.13669924, 1.13670199, 1.13668985, 1.13670191, 1.1366932, 1.13668845, 1.13668786, 1.13668694, 1.13668736, 1.13648463, 1.13650024, 1.13648744, 1.13646054, 1.13647371, 1.13647788, 1.13648241, 1.1364878, 1.13647662, 1.13617854, 1.13620982, 1.13619879, 1.13617006, 1.1361838, 1.13616669, 1.13619658, 1.13617753, 1.13619746, 1.13587062, 1.13589669, 1.13589735, 1.13589299, 1.13589372, 1.13588666, 1.13588376, 1.13587882, 1.13589078, 1.13637006, 1.13636959, 1.13639512, 1.1363844, 1.13636872, 1.13636993, 1.13636999, 1.13636323, 1.1363691, 1.13651336, 1.13652542, 1.13652355, 1.13651559, 1.13651775, 1.13651763, 1.13652061, 1.13651658, 1.13650921, 1.1366345, 1.13665487, 1.13664075, 1.1366485, 1.13664584, 1.13665109, 1.13665084, 1.13664486, 1.13663243, 1.13677079, 1.13677773, 1.13677203, 1.13676453, 1.13677298, 1.1367792, 1.13678265, 1.13676331, 1.13675775, 1.13681257, 1.13682257, 1.13681137, 1.13680796, 1.1368191, 1.13681627, 1.13681681, 1.1367977, 1.13679688, 1.13684079, 1.13687169, 1.13685732, 1.13683549, 1.13684667, 1.13685191, 1.13685244, 1.1368539, 1.13682665, 1.13683548, 1.13683003, 1.13683641, 1.13682638, 1.13680937, 1.13682515, 1.13683091, 1.1368291, 1.13682747, 1.13676167, 1.13673072, 1.13673054, 1.13674133, 1.13672226, 1.13672796, 1.13674857, 1.13673808, 1.1367481, 1.13659801, 1.13659748, 1.13657486, 1.13659239, 1.13658195, 1.13658651, 1.13658842, 1.13657837, 1.13658583, 1.13638915, 1.13639968, 1.13637416, 1.13635997, 1.13637332, 1.13638354, 1.13637582, 1.13637707, 1.13637581, 1.13610165, 1.13612475, 1.13609336, 1.13607827, 1.13607914, 1.13606826, 1.13608965, 1.13607504, 1.13610172, 1.13579448, 1.13582806, 1.13580898, 1.13579849, 1.13579688, 1.13577463, 1.1357819, 1.13576855, 1.13579563, 1.13625417, 1.13627394, 1.13626458, 1.13625812, 1.13625354, 1.13625871, 1.13625507, 1.1362503, 1.13623806, 1.136397, 1.13639996, 1.13640803, 1.13640244, 1.13639612, 1.13640126, 1.13639917, 1.13639569, 1.13639634, 1.13652697, 1.13652847, 1.13652633, 1.13652856, 1.13653111, 1.13652348, 1.13652222, 1.13651927, 1.13651592, 1.13665481, 1.13665292, 1.13665403, 1.13665055, 1.136662, 1.1366598, 1.13665524, 1.13664853, 1.13664681, 1.13669978, 1.13669917, 1.13669178, 1.13669187, 1.13669329, 1.13669853, 1.13669854, 1.13668724, 1.1366881, 1.13673284, 1.13673572, 1.13673395, 1.13672824, 1.13671599, 1.13672799, 1.13672649, 1.1367272, 1.13672903, 1.13671205, 1.13671144, 1.13672682, 1.13671623, 1.13670259, 1.13669781, 1.13669541, 1.13670586, 1.13670562, 1.13664914, 1.136632, 1.13662238, 1.13664723, 1.13661207, 1.13661975, 1.13662175, 1.13662241, 1.13663461, 1.13653113, 1.13649911, 1.1364546, 1.13648711, 1.1365091, 1.136483, 1.13648445, 1.13648186, 1.13648541, 1.13629117, 1.13629189, 1.13623626, 1.13624213, 1.1363066, 1.13627922, 1.13627805, 1.13627785, 1.13627922, 1.13599611, 1.1360141, 1.1359782, 1.13594939, 1.13595973, 1.13598187, 1.13598544, 1.1359912, 1.13598558, 1.13571359, 1.1357433, 1.13570446, 1.13567681, 1.13567281, 1.13569576, 1.13569131, 1.13569893, 1.13568765, 1.13613878, 1.13613757, 1.13615352, 1.13615464, 1.13614865, 1.13614209, 1.13613225, 1.13612547, 1.13612415, 1.1362835, 1.13628561, 1.13630511, 1.13629185, 1.13629778, 1.13628351, 1.13628206, 1.13627973, 1.13627797, 1.13642061, 1.13641334, 1.13642549, 1.13642481, 1.13641168, 1.13641156, 1.13640336, 1.13640567, 1.13640624, 1.13654819, 1.13654297, 1.136562, 1.13653935, 1.13653867, 1.13653928, 1.13653203, 1.13653256, 1.13654979, 1.13659118, 1.13659312, 1.13660282, 1.13658316, 1.13657652, 1.13656997, 1.1365698, 1.13656897, 1.13657396, 1.13663173, 1.13662258, 1.13661717, 1.13661736, 1.13660965, 1.13658932, 1.13658791, 1.13658907, 1.13658743, 1.13661842, 1.13658926, 1.13660106, 1.13662534, 1.13660138, 1.1365779, 1.13657006, 1.13657283, 1.13657107, 1.13654331, 1.13652454, 1.13653835, 1.13653866, 1.13654492, 1.13652586, 1.13651402, 1.13650884, 1.13650849, 1.13642901, 1.13644559, 1.13636391, 1.1364064, 1.13643168, 1.13640305, 1.13639629, 1.13638675, 1.13638061, 1.13623481, 1.13622306, 1.13614216, 1.13617759, 1.13621375, 1.13621452, 1.13620951, 1.13620915, 1.13619751, 1.13591203, 1.13592227, 1.1358677, 1.13585949, 1.13589936, 1.13594723, 1.13592263, 1.1359146, 1.13592708, 1.13563466, 1.13565222, 1.13561799, 1.13558754, 1.13560401, 1.13565751, 1.13563373, 1.13563397, 1.13563212, 1.13601351, 1.13600638, 1.13601161, 1.13600283, 1.1360137, 1.13601037, 1.13599889, 1.13600027, 1.13599815, 1.13615788, 1.13615002, 1.13616338, 1.13614948, 1.13615009, 1.13614785, 1.13614836, 1.13615416, 1.1361569, 1.13628778, 1.13628335, 1.13627971, 1.13628359, 1.13627892, 1.13627309, 1.1362772, 1.13627439, 1.13627853, 1.13642472, 1.13641757, 1.13642174, 1.13640402, 1.1364238, 1.13641572, 1.13640633, 1.13641827, 1.13640815, 1.13644924, 1.13646225, 1.13647707, 1.13644763, 1.13645288, 1.13646913, 1.13645099, 1.13646341, 1.136453, 1.13650246, 1.13649363, 1.13650549, 1.13647593, 1.13646382, 1.13648578, 1.13646114, 1.13645684, 1.13645771, 1.1365154, 1.1364443, 1.13648775, 1.13650307, 1.13646152, 1.13647376, 1.13646869, 1.13643638, 1.13643448, 1.13644619, 1.13639747, 1.13642228, 1.13644915, 1.13643043, 1.13638733, 1.13640374, 1.1363745, 1.13636915, 1.13630068, 1.13631256, 1.13627772, 1.13632357, 1.13633301, 1.13628125, 1.13627688, 1.13627899, 1.13626012, 1.13614334, 1.13614216, 1.13605557, 1.13611269, 1.13613211, 1.13612795, 1.13609195, 1.1361058, 1.13609237, 1.13583962, 1.13583234, 1.13578027, 1.13579532, 1.13583704, 1.13585087, 1.13585331, 1.13584336, 1.13584119, 1.13555123, 1.1355448, 1.13551386, 1.13549605, 1.13555224, 1.13555911, 1.13557904, 1.1355704, 1.13555477, 1.1358897, 1.13590516, 1.13588676, 1.13589115, 1.13589295, 1.13589829, 1.13589545, 1.13589905, 1.13588751, 1.13603545, 1.13604559, 1.1360364, 1.13603814, 1.13603638, 1.13604738, 1.13602299, 1.13602686, 1.13604223, 1.13615675, 1.13617443, 1.13615861, 1.13616319, 1.13618282, 1.13618096, 1.13617135, 1.13615143, 1.13615605, 1.13631471, 1.13630683, 1.13629235, 1.13630727, 1.13632161, 1.13632266, 1.13631057, 1.13631824, 1.1363017, 1.13634092, 1.13638259, 1.13634997, 1.13633921, 1.13634998, 1.13637187, 1.1363448, 1.13637206, 1.136364, 1.13637815, 1.13639419, 1.13641904, 1.13634214, 1.13635415, 1.13639719, 1.13637513, 1.13637114, 1.13637448, 1.13639682, 1.13637238, 1.1364241, 1.13637888, 1.13635074, 1.13634047, 1.13637674, 1.1363394, 1.13633349, 1.13635224, 1.13632755, 1.1363332, 1.13635603, 1.13631058, 1.13628142, 1.13627302, 1.13629788, 1.13626445, 1.1362191, 1.13618481, 1.13619923, 1.13624751, 1.13622298, 1.13618098, 1.13616897, 1.13618931, 1.13618286, 1.13601511, 1.13601843, 1.13598518, 1.13604585, 1.13604407, 1.13602098, 1.13599803, 1.13600767, 1.13600424, 1.1357554, 1.13575877, 1.13570439, 1.135734, 1.13577159, 1.13575476, 1.13575421, 1.13573574, 1.13574653, 1.135474, 1.13547011, 1.13543192, 1.1354359, 1.13549437, 1.1354935, 1.13549227, 1.13548968, 1.13548158, 1.13572786, 1.13575028, 1.13577888, 1.13576153, 1.13576077, 1.13578032, 1.13575239, 1.13574156, 1.13576262, 1.13588749, 1.13587966, 1.13590244, 1.13591308, 1.13591322, 1.13592495, 1.13591177, 1.13589011, 1.13588829, 1.13601046, 1.13602757, 1.13603942, 1.13604304, 1.13605617, 1.13606358, 1.13606781, 1.1360333, 1.13601421, 1.13616578, 1.13619036, 1.1361599, 1.13618552, 1.13620869, 1.13621959, 1.13621286, 1.13621436, 1.1361989, 1.13620963, 1.13625744, 1.13620658, 1.13622967, 1.13625216, 1.13627204, 1.1362535, 1.13627153, 1.13626448, 1.1362607, 1.13631773, 1.13628167, 1.136227, 1.1362427, 1.13631114, 1.13631097, 1.13628714, 1.13629197, 1.13626718, 1.13625355, 1.13629501, 1.13624235, 1.1362456, 1.13624223, 1.13628329, 1.13627147, 1.13627343, 1.13624076, 1.13619573, 1.13626158, 1.13621577, 1.13621858, 1.13617616, 1.13620939, 1.13620565, 1.13620567, 1.13610983, 1.13609283, 1.13610013, 1.13611118, 1.13610638, 1.13606747, 1.13606248, 1.13609006, 1.1360884, 1.13591484, 1.13590509, 1.13586638, 1.13594319, 1.13592692, 1.13590136, 1.1358934, 1.13591095, 1.13591048, 1.13562905, 1.13562437, 1.13560561, 1.13565703, 1.13566672, 1.13564546, 1.1356473, 1.13562718, 1.13564677, 1.13535702, 1.13537027, 1.13534119, 1.13536809, 1.13539573, 1.13537479, 1.13538378, 1.1353672, 1.13537879, 1.13560598, 1.13561693, 1.13567952, 1.13563523, 1.13562824, 1.13565789, 1.13562695, 1.13561919, 1.13565046, 1.13575456, 1.13574935, 1.13580812, 1.13579904, 1.13580677, 1.13580131, 1.13582469, 1.13578161, 1.13577006, 1.13589213, 1.13590467, 1.13593421, 1.13594475, 1.13594583, 1.13594567, 1.1359639, 1.1359485, 1.13592194, 1.13604989, 1.1361013, 1.13605872, 1.13608044, 1.13610095, 1.13611233, 1.13611639, 1.13612326, 1.13610989, 1.13610993, 1.13615046, 1.13610086, 1.13611635, 1.13616574, 1.13617655, 1.13616399, 1.13617395, 1.13617168, 1.13617722, 1.13622621, 1.13615901, 1.13616347, 1.13615812, 1.13622782, 1.13622668, 1.13621828, 1.13621169, 1.13618414, 1.13616585, 1.13617942, 1.13613311, 1.13617566, 1.13620139, 1.13621214, 1.13620695, 1.13620656, 1.13612279, 1.13610488, 1.13615312, 1.13607967, 1.13612337, 1.13611871, 1.1361308, 1.13614627, 1.13615162, 1.13602393, 1.13598384, 1.13604246, 1.1360091, 1.13600845, 1.13598652, 1.13600497, 1.1360202, 1.13601778, 1.13583429, 1.13581654, 1.1358085, 1.13584323, 1.13583012, 1.13580817, 1.135809, 1.13582145, 1.1358232, 1.13556562, 1.13554946, 1.1355175, 1.13558064, 1.13556223, 1.13555776, 1.13555947, 1.13554227, 1.13556351, 1.135283, 1.1352694, 1.13525746, 1.13530604, 1.13529611, 1.13527454, 1.13528489, 1.13527088, 1.13528956, 1.13550725, 1.13549617, 1.13557232, 1.13551273, 1.13548669, 1.13550527, 1.13554489, 1.13550664, 1.13552577, 1.13562903, 1.13563768, 1.13571105, 1.13566943, 1.13564809, 1.13566081, 1.13570919, 1.13566792, 1.13568956, 1.13577667, 1.13582506, 1.13584457, 1.13583516, 1.13581084, 1.13581509, 1.13584375, 1.13585351, 1.13583178, 1.13594129, 1.13599063, 1.13596084, 1.13597667, 1.13599837, 1.13599061, 1.1360046, 1.13601782, 1.13599372, 1.13601231, 1.1360522, 1.13599841, 1.13600982, 1.13605309, 1.13605978, 1.13606388, 1.13607564, 1.1360561, 1.1361005, 1.13611614, 1.13604087, 1.13604958, 1.1360585, 1.13613082, 1.13612925, 1.13612651, 1.13610973, 1.13610528, 1.13611848, 1.13605187, 1.136051, 1.13606659, 1.13612758, 1.13612775, 1.13613141, 1.13611124, 1.13603699, 1.13603409, 1.1360404, 1.1360029, 1.13602311, 1.13604147, 1.13604396, 1.13608129, 1.13604688, 1.13591951, 1.13588974, 1.13595221, 1.13587471, 1.13590014, 1.13591826, 1.13591608, 1.13593308, 1.13591559, 1.13573745, 1.13570337, 1.13573301, 1.13571261, 1.13570927, 1.13570759, 1.13570892, 1.13573334, 1.13571583, 1.13547047, 1.13545034, 1.13543437, 1.13546627, 1.13543939, 1.13545642, 1.13544332, 1.13544163, 1.13545346, 1.13520209, 1.13518948, 1.13517231, 1.13520745, 1.13518267, 1.13517782, 1.13517829, 1.13517272, 1.13519255]\n"
     ]
    }
   ],
   "source": [
    "valid_real_ys=[]\n",
    "valid_real_Xs=[]\n",
    "for index, row in validation_frame.iterrows():\n",
    "    valid_real_ys.append(row['Value'])\n",
    "    valid_real_Xs.append([row['p_vdda_evr'], row['p_vddpd'], row['temperature']])\n",
    "\n",
    "# print(valid_real_Xs)\n",
    "valid_norm_Xs=np.array(transform_X.transform(valid_real_Xs),dtype=np.float32)\n",
    "valid_norm_Xs\n",
    "print(valid_real_ys)"
   ]
  },
  {
   "cell_type": "code",
   "execution_count": 14,
   "metadata": {},
   "outputs": [],
   "source": [
    "opt_norm_Xs=norm_training_Xs.tolist()\n",
    "opt_norm_ys=norm_training_ys.tolist()\n"
   ]
  },
  {
   "cell_type": "code",
   "execution_count": 15,
   "metadata": {},
   "outputs": [
    {
     "name": "stdout",
     "output_type": "stream",
     "text": [
      "36\n",
      "36\n",
      "36\n",
      "54\n",
      "54\n"
     ]
    }
   ],
   "source": [
    "\n",
    "print(len(norm_training_Xs.tolist()))\n",
    "print(len(opt_norm_Xs))\n",
    "print(len(opt_norm_ys))\n",
    "print(len(choices))\n",
    "print(len(values))\n"
   ]
  },
  {
   "cell_type": "code",
   "execution_count": 16,
   "metadata": {},
   "outputs": [],
   "source": [
    "max_sample=[]\n",
    "errs=[]\n",
    "smerrs=[]\n",
    "total_errs=[]\n",
    "\n",
    "pred_points=[]\n",
    "pred_vals=[]\n",
    "\n",
    "for i in range((len(choices))):\n",
    "\n",
    "    opt_norm_Xs.append(choices[i])\n",
    "    opt_norm_ys.append(values[i])\n",
    "\n",
    "    gp_model = tfd.GaussianProcessRegressionModel(\n",
    "        kernel=kernel,\n",
    "        index_points=valid_norm_Xs,\n",
    "        observation_index_points=opt_norm_Xs,\n",
    "        observations=opt_norm_ys,\n",
    "        observation_noise_variance=noise_var,\n",
    "        predictive_noise_variance=0.,\n",
    "        jitter=1e-4)\n",
    "    pred_norm_ys = gp_model.mean().numpy()\n",
    "    pred_real_ys = transform_y.inverse_transform(pred_norm_ys.reshape(-1,1)).flatten()\n",
    "\n",
    "    valid_errs = pred_real_ys - valid_real_ys\n",
    "    total_errs.append(valid_errs)\n",
    "    errs.append(np.amax(valid_errs))\n",
    "    sqvalid_errs = np.square(valid_errs)\n",
    "    smerrs.append(np.sqrt(np.mean(sqvalid_errs)))\n",
    "    max_sample.append(transform_y.inverse_transform(np.array([max(opt_norm_ys)])))\n",
    "    \n",
    "    # Predicted Maximum\n",
    "    \n",
    "#     if (i+1)%9== 0:\n",
    "#         @tf.function(autograph=False, experimental_compile=False)\n",
    "#         def eval_model(x):\n",
    "#             gp_model = tfd.GaussianProcessRegressionModel(\n",
    "#                 kernel=kernel,\n",
    "#                 index_points=[x],\n",
    "#                 observation_index_points=opt_norm_Xs,\n",
    "#                 observations=opt_norm_ys,\n",
    "#                 observation_noise_variance=noise_var,\n",
    "#                 predictive_noise_variance=0.,\n",
    "#                 jitter=1e-4)   \n",
    "            \n",
    "#             return gp_model.mean()\n",
    "        \n",
    "#         pred_point, pred_value = pso(func=lambda x: -eval_model(np.float32(x)), lb=norm_lb, ub=norm_ub, maxiter=50,\n",
    "#                             debug=False)\n",
    "#         norm_point = transform_X.inverse_transform([pred_point])[0].astype(np.float32)\n",
    "#         norm_val = transform_y.inverse_transform([-pred_value])[0].astype(np.float32)\n",
    "        \n",
    "#         pred_points.append(norm_point)\n",
    "#         pred_vals.append(norm_val)\n",
    "        \n",
    "    ##\n",
    "    \n",
    "max_sample=np.array(max_sample)\n",
    "max_sample=max_sample.flatten()\n",
    "\n"
   ]
  },
  {
   "cell_type": "code",
   "execution_count": 2,
   "metadata": {},
   "outputs": [
    {
     "ename": "NameError",
     "evalue": "name 'lb' is not defined",
     "output_type": "error",
     "traceback": [
      "\u001b[0;31m---------------------------------------------------------------------------\u001b[0m",
      "\u001b[0;31mNameError\u001b[0m                                 Traceback (most recent call last)",
      "Input \u001b[0;32mIn [2]\u001b[0m, in \u001b[0;36m<module>\u001b[0;34m\u001b[0m\n\u001b[0;32m----> 1\u001b[0m intervals\u001b[38;5;241m=\u001b[39m[ [lb[i], ub[i]] \u001b[38;5;28;01mfor\u001b[39;00m i \u001b[38;5;129;01min\u001b[39;00m \u001b[38;5;28mrange\u001b[39m(\u001b[38;5;241m3\u001b[39m)]\n\u001b[1;32m      2\u001b[0m intervals\n",
      "Input \u001b[0;32mIn [2]\u001b[0m, in \u001b[0;36m<listcomp>\u001b[0;34m(.0)\u001b[0m\n\u001b[0;32m----> 1\u001b[0m intervals\u001b[38;5;241m=\u001b[39m[ [\u001b[43mlb\u001b[49m[i], ub[i]] \u001b[38;5;28;01mfor\u001b[39;00m i \u001b[38;5;129;01min\u001b[39;00m \u001b[38;5;28mrange\u001b[39m(\u001b[38;5;241m3\u001b[39m)]\n\u001b[1;32m      2\u001b[0m intervals\n",
      "\u001b[0;31mNameError\u001b[0m: name 'lb' is not defined"
     ]
    }
   ],
   "source": [
    "\n",
    "\n",
    "# filepath = os.path.join('.', 'predicted_optimums90.npyz')\n",
    "# to_save = {\n",
    "#     'values': pred_vals,\n",
    "#     'choices': pred_points,\n",
    "# }\n",
    "\n",
    "# with open(filepath, 'wb') as file:\n",
    "#     np.savez(file, **to_save)\n",
    "    \n",
    "    \n",
    "# with open(filepath, 'rb') as file:\n",
    "#     data = np.load(file)\n",
    "#     print(data['choices'])\n",
    "#     print(data['values'])\n",
    "\n",
    "    "
   ]
  },
  {
   "cell_type": "code",
   "execution_count": 18,
   "metadata": {},
   "outputs": [
    {
     "data": {
      "image/png": "[encoded data removed]",
      "text/plain": [
       "<Figure size 864x288 with 1 Axes>"
      ]
     },
     "metadata": {
      "needs_background": "light"
     },
     "output_type": "display_data"
    }
   ],
   "source": [
    "plt.figure(figsize=(12, 4))\n",
    "plt.plot(errs)\n",
    "plt.xlabel(\"Optimization iteration\")\n",
    "plt.ylabel(\"Validation error\")\n",
    "# path = os.path.join(log_path, 'mean_regrets.png')\n",
    "# plt.savefig(path)\n",
    "# plt.show()\n",
    "plt.savefig('max_loss.pdf',format='pdf',dpi=1200)"
   ]
  },
  {
   "cell_type": "code",
   "execution_count": 19,
   "metadata": {},
   "outputs": [
    {
     "data": {
      "image/png": "[encoded data removed]",
      "text/plain": [
       "<Figure size 864x288 with 1 Axes>"
      ]
     },
     "metadata": {
      "needs_background": "light"
     },
     "output_type": "display_data"
    }
   ],
   "source": [
    "plt.figure(figsize=(12, 4))\n",
    "plt.plot(smerrs)\n",
    "plt.xlabel(\"Optimization iteration\")\n",
    "plt.ylabel(\"Validation error\")\n",
    "# path = os.path.join(log_path, 'mean_regrets.png')\n",
    "# plt.savefig(path)\n",
    "# plt.show()\n",
    "plt.savefig('sme.pdf',format='pdf',dpi=1200)"
   ]
  },
  {
   "cell_type": "code",
   "execution_count": 20,
   "metadata": {},
   "outputs": [
    {
     "data": {
      "text/plain": [
       "array([1.13690817, 1.13690817, 1.13690817, 1.13690817, 1.13690817,\n",
       "       1.13690817, 1.13690817, 1.13690817, 1.13690817, 1.13690817,\n",
       "       1.13690817, 1.13690817, 1.13690817, 1.13690817, 1.13690817,\n",
       "       1.13690817, 1.13690817, 1.13690817, 1.13690817, 1.13690817,\n",
       "       1.13690817, 1.13690817, 1.13690817, 1.13690817, 1.13690817,\n",
       "       1.13690817, 1.13690817, 1.13690817, 1.13690817, 1.13690817,\n",
       "       1.13690817, 1.13690817, 1.13690817, 1.13690817, 1.13690817,\n",
       "       1.13690817, 1.13694143, 1.13694143, 1.13694143, 1.13694143,\n",
       "       1.13694143, 1.13694143, 1.13694143, 1.13694143, 1.13694143,\n",
       "       1.13694143, 1.13694143, 1.13694143, 1.13694143, 1.13694143,\n",
       "       1.13694143, 1.13694143, 1.13694143, 1.13694143])"
      ]
     },
     "execution_count": 20,
     "metadata": {},
     "output_type": "execute_result"
    },
    {
     "data": {
      "image/png": "[encoded data removed]",
      "text/plain": [
       "<Figure size 864x288 with 1 Axes>"
      ]
     },
     "metadata": {
      "needs_background": "light"
     },
     "output_type": "display_data"
    }
   ],
   "source": [
    "plt.figure(figsize=(12, 4))\n",
    "plt.plot(max_sample)\n",
    "plt.xlabel(\"Optimization iteration\")\n",
    "plt.ylabel(\"Max sample value\")\n",
    "# path = os.path.join(log_path, 'mean_regrets.png')\n",
    "# plt.savefig(path)\n",
    "# plt.show()\n",
    "plt.savefig('max.pdf',format='pdf',dpi=1200)\n",
    "max_sample"
   ]
  }
 ],
 "metadata": {
  "kernelspec": {
   "display_name": "Python 3 (ipykernel)",
   "language": "python",
   "name": "python3"
  },
  "language_info": {
   "codemirror_mode": {
    "name": "ipython",
    "version": 3
   },
   "file_extension": ".py",
   "mimetype": "text/x-python",
   "name": "python",
   "nbconvert_exporter": "python",
   "pygments_lexer": "ipython3",
   "version": "3.8.10"
  }
 },
 "nbformat": 4,
 "nbformat_minor": 1
}
