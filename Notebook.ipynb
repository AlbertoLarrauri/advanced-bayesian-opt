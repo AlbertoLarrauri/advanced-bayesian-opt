{
 "cells": [
  {
   "cell_type": "code",
   "execution_count": 1,
   "id": "a9decf41",
   "metadata": {},
   "outputs": [
    {
     "name": "stderr",
     "output_type": "stream",
     "text": [
      "2022-01-16 22:13:31.727795: W tensorflow/stream_executor/platform/default/dso_loader.cc:64] Could not load dynamic library 'libcudart.so.11.0'; dlerror: libcudart.so.11.0: cannot open shared object file: No such file or directory\n",
      "2022-01-16 22:13:31.727864: I tensorflow/stream_executor/cuda/cudart_stub.cc:29] Ignore above cudart dlerror if you do not have a GPU set up on your machine.\n"
     ]
    }
   ],
   "source": [
    "import time\n",
    "import IPython\n",
    "import os\n",
    "import json\n",
    "from datetime import datetime\n",
    "from pyswarm import pso\n",
    "import joblib\n",
    "import numpy as np\n",
    "import matplotlib.pyplot as plt\n",
    "# from mpl_toolkits.mplot3d import Axes3D\n",
    "import tensorflow.compat.v2 as tf\n",
    "import tensorflow_probability as tfp\n",
    "from tensorflow import keras\n",
    "import keras.backend as K\n",
    "K.set_floatx('float32')\n",
    "from keras.models import Sequential, Model\n",
    "# from tensorflow.keras.layers import Input, Dense, Dropout, BatchNormalization, Lambda, Layer\n",
    "# from tensorflow.keras import losses\n",
    "# from keras.utils.vis_utils import plot_model, model_to_dot\n",
    "\n",
    "from sklearn.preprocessing import StandardScaler, MinMaxScaler\n",
    "# from sklearn.model_selection import train_test_split\n",
    "# from sklearn.metrics import r2_score, mean_absolute_error, median_absolute_error\n",
    "\n",
    "tfb = tfp.bijectors\n",
    "tfd = tfp.distributions\n",
    "tfk = tfp.math.psd_kernels\n",
    "\n",
    "tf.enable_v2_behavior()\n",
    "\n",
    "from tester.tester import Tester\n",
    "\n",
    "\n",
    "\n"
   ]
  },
  {
   "cell_type": "code",
   "execution_count": 2,
   "id": "20e985ae",
   "metadata": {
    "pycharm": {
     "is_executing": true
    }
   },
   "outputs": [
    {
     "name": "stdout",
     "output_type": "stream",
     "text": [
      "/home/advanced/ip_hpbg_c40fla/nodm/default/units/ws_larrauri/simulation/fcv_c40fla_bgp/advanced-bayesian-opt\n",
      "None\n",
      "/home/advanced/ip_hpbg_c40fla/nodm/default/units/ws_larrauri/simulation/fcv_c40fla_bgp\n"
     ]
    }
   ],
   "source": [
    "# Make directory for saving logs\n",
    "K.clear_session()\n",
    "\n",
    "print(os.getcwd())\n",
    "print(os.chdir('..'))\n",
    "print(os.getcwd())\n",
    "\n",
    "tester = Tester()\n",
    "tester.load_limits(os.path.join('.', 'advanced-bayesian-opt', 'configuration', 'limits.txt'))\n",
    "\n",
    "time_now = datetime.now().strftime(\"%Y_%m_%d_%H_%M_%S\")\n",
    "log_path=os.path.join('./',time_now)\n",
    "os.mkdir(log_path)\n",
    "\n",
    "# Define bounds for the input variables and the spec for the output value\n",
    "\n",
    "# The input values should be: p_vdda_hpbg, p_vddpd, temperature\n",
    "\n",
    "lb = [2.2, 1.08, -40.]   # lower bounds of the design variables, i.e. input params for the sut_model\n",
    "ub = [2.8, 1.41, 175.]   # upper bounds of the design variables, i.e. input params for the sut_model\n",
    "n_dims=3\n",
    "\n",
    "\n",
    "# Specification interval for pms_V_hpbg\n",
    "\n",
    "out_spec=[1.099, 1.165]\n",
    "\n"
   ]
  },
  {
   "cell_type": "code",
   "execution_count": 3,
   "id": "7c38c92d",
   "metadata": {
    "pycharm": {
     "is_executing": true
    }
   },
   "outputs": [],
   "source": [
    "\n",
    "\n",
    "\n",
    "# Returns the model output on single or multiple inputs (as in Cristi's code )\n",
    "\n",
    "def _evaluate_model_once(model_input):\n",
    "\tprint(model_input)\n",
    "\tassert len(model_input.shape) == 1\n",
    "\tfilepath = os.path.join('.', 'advanced-bayesian-opt', 'input_configuration.csv')\n",
    "\twith open(filepath, 'w') as file:\n",
    "\t\tfile.write('TRIMBG,string,enum,0 \\n')\n",
    "\t\tfile.write('TRIMCUR,string,enum,0 \\n')\n",
    "\t\tfile.write('models,string,enum,nom \\n')\n",
    "\t\tfile.write('vref,string,enum,0.6 \\n')\n",
    "\t\tfile.write('vss,string,enum,0v00 \\n')\n",
    "\t\tfile.write(\"vdda_evr,string,enum,{} \\n\".format(model_input[0]))\n",
    "\t\tfile.write(\"vdda_hpbg,string,enum,{} \\n\".format(model_input[0]))\n",
    "\t\tfile.write(\"vddpd,string,enum,{} \\n\".format(model_input[1]))\n",
    "\t\tfile.write(\"T,string,enum,{} \\n\".format(model_input[2]))\n",
    "\n",
    "\ttester.load_limits(os.path.join('.', 'advanced-bayesian-opt', 'configuration', 'limits.txt'))\n",
    "\t#print('\\nLoaded limits:\\n{}'.format(tester.limits))\n",
    "\n",
    "\ttester.load_in_values(os.path.join('.', 'advanced-bayesian-opt', 'input_configuration.csv'))\n",
    "\t#print('\\nLoaded in-values:\\n{}'.format(tester.in_values))\n",
    "\t#print(tester.runs)\n",
    "\n",
    "\t# NOTE: comment out the next two lines if load_in_values() has been invoked with 'create_simlist=False' above\n",
    "\ttester.run_simulation()\n",
    "\t# print('\\nSimulation launched!')\n",
    "\n",
    "\ttester.load_out_results()\n",
    "\t\n",
    "\tprint('\\nLoaded out-results:\\n{}'.format(tester.out_results))\n",
    "\n",
    "\toutput=tester.out_results['RUN1']['pms_V_hpbg']\n",
    "\n",
    "\t# print('\\n Relevant output: \\n {}, {}'.format(output,output+1))\n",
    "\n",
    "\treturn output\n",
    "\n",
    "\n",
    "\n",
    "def evaluate_model(model_input):\n",
    "\tprint(model_input)\n",
    "\tmodel_input = np.array(model_input)\n",
    "\tif len(model_input.shape) == 1:\n",
    "\t\tone_datapoint = True\n",
    "# \t\tmodel_input = [model_input]\n",
    "\telif len(model_input.shape) == 2:\n",
    "\t\tone_datapoint = False\n",
    "\telse:\n",
    "\t\tassert False, \"illegal model input: {}\".format(model_input)\n",
    "\n",
    "\tif one_datapoint:\n",
    "\t\treturn _evaluate_model_once(model_input)\n",
    "\telse:\n",
    "\t\treturn [_evaluate_model_once(i) for i in model_input]\n",
    "\n",
    "\n",
    "\n",
    "\n",
    "\n",
    "# def evaluate_model(model_input):\n",
    "#     model_input = np.array(model_input)\n",
    "#     if len(model_input.shape) == 1:\n",
    "#         one_datapoint = True\n",
    "#         model_input = [model_input]\n",
    "#     elif len(model_input.shape) == 2:\n",
    "#         one_datapoint = False\n",
    "#     else:\n",
    "#         assert False, \"illegal model input: {}\".format(model_input)\n",
    "    \n",
    "#     if sut_scaler_X is not None:\n",
    "#         model_input = sut_scaler_X.transform(model_input)\n",
    "#     model_output = (sut_model.predict(model_input)).ravel()\n",
    "#     if sut_scaler_y is not None:\n",
    "#         model_output = sut_scaler_y.inverse_transform(model_output.reshape(-1,1)).ravel()\n",
    "    \n",
    "#     if one_datapoint:\n",
    "#         # we want the model_output to be a scalar and not a list containing a single scalar\n",
    "#         model_output = model_output[0]\n",
    "    \n",
    "#     return model_output\n"
   ]
  },
  {
   "cell_type": "code",
   "execution_count": 5,
   "id": "00eac1f2",
   "metadata": {},
   "outputs": [
    {
     "name": "stdout",
     "output_type": "stream",
     "text": [
      "[ 2.3  1.2 42. ]\n",
      "[ 2.3  1.2 42. ]\n",
      "Simulator launched successfully!\n",
      "\n",
      "Check \"./simulation.log\" for logs of the fcv execution\n"
     ]
    },
    {
     "ename": "KeyboardInterrupt",
     "evalue": "",
     "output_type": "error",
     "traceback": [
      "\u001b[0;31m---------------------------------------------------------------------------\u001b[0m",
      "\u001b[0;31mKeyboardInterrupt\u001b[0m                         Traceback (most recent call last)",
      "\u001b[0;32m/tmp/ipykernel_29053/3781016081.py\u001b[0m in \u001b[0;36m<module>\u001b[0;34m\u001b[0m\n\u001b[0;32m----> 1\u001b[0;31m \u001b[0my\u001b[0m\u001b[0;34m=\u001b[0m\u001b[0mevaluate_model\u001b[0m\u001b[0;34m(\u001b[0m\u001b[0mnp\u001b[0m\u001b[0;34m.\u001b[0m\u001b[0marray\u001b[0m\u001b[0;34m(\u001b[0m\u001b[0;34m[\u001b[0m\u001b[0;36m2.3\u001b[0m\u001b[0;34m,\u001b[0m \u001b[0;36m1.20\u001b[0m\u001b[0;34m,\u001b[0m \u001b[0;36m42.\u001b[0m\u001b[0;34m]\u001b[0m\u001b[0;34m)\u001b[0m\u001b[0;34m)\u001b[0m\u001b[0;34m\u001b[0m\u001b[0;34m\u001b[0m\u001b[0m\n\u001b[0m\u001b[1;32m      2\u001b[0m \u001b[0mprint\u001b[0m\u001b[0;34m(\u001b[0m\u001b[0my\u001b[0m\u001b[0;34m)\u001b[0m\u001b[0;34m\u001b[0m\u001b[0;34m\u001b[0m\u001b[0m\n",
      "\u001b[0;32m/tmp/ipykernel_29053/1910079142.py\u001b[0m in \u001b[0;36mevaluate_model\u001b[0;34m(model_input)\u001b[0m\n\u001b[1;32m     51\u001b[0m \u001b[0;34m\u001b[0m\u001b[0m\n\u001b[1;32m     52\u001b[0m         \u001b[0;32mif\u001b[0m \u001b[0mone_datapoint\u001b[0m\u001b[0;34m:\u001b[0m\u001b[0;34m\u001b[0m\u001b[0;34m\u001b[0m\u001b[0m\n\u001b[0;32m---> 53\u001b[0;31m                 \u001b[0;32mreturn\u001b[0m \u001b[0m_evaluate_model_once\u001b[0m\u001b[0;34m(\u001b[0m\u001b[0mmodel_input\u001b[0m\u001b[0;34m)\u001b[0m\u001b[0;34m\u001b[0m\u001b[0;34m\u001b[0m\u001b[0m\n\u001b[0m\u001b[1;32m     54\u001b[0m         \u001b[0;32melse\u001b[0m\u001b[0;34m:\u001b[0m\u001b[0;34m\u001b[0m\u001b[0;34m\u001b[0m\u001b[0m\n\u001b[1;32m     55\u001b[0m                 \u001b[0;32mreturn\u001b[0m \u001b[0;34m[\u001b[0m\u001b[0m_evaluate_model_once\u001b[0m\u001b[0;34m(\u001b[0m\u001b[0mi\u001b[0m\u001b[0;34m)\u001b[0m \u001b[0;32mfor\u001b[0m \u001b[0mi\u001b[0m \u001b[0;32min\u001b[0m \u001b[0mmodel_input\u001b[0m\u001b[0;34m]\u001b[0m\u001b[0;34m\u001b[0m\u001b[0;34m\u001b[0m\u001b[0m\n",
      "\u001b[0;32m/tmp/ipykernel_29053/1910079142.py\u001b[0m in \u001b[0;36m_evaluate_model_once\u001b[0;34m(model_input)\u001b[0m\n\u001b[1;32m     27\u001b[0m         \u001b[0;31m# print('\\nSimulation launched!')\u001b[0m\u001b[0;34m\u001b[0m\u001b[0;34m\u001b[0m\u001b[0;34m\u001b[0m\u001b[0m\n\u001b[1;32m     28\u001b[0m \u001b[0;34m\u001b[0m\u001b[0m\n\u001b[0;32m---> 29\u001b[0;31m         \u001b[0mtester\u001b[0m\u001b[0;34m.\u001b[0m\u001b[0mload_out_results\u001b[0m\u001b[0;34m(\u001b[0m\u001b[0;34m)\u001b[0m\u001b[0;34m\u001b[0m\u001b[0;34m\u001b[0m\u001b[0m\n\u001b[0m\u001b[1;32m     30\u001b[0m \u001b[0;34m\u001b[0m\u001b[0m\n\u001b[1;32m     31\u001b[0m         \u001b[0mprint\u001b[0m\u001b[0;34m(\u001b[0m\u001b[0;34m'\\nLoaded out-results:\\n{}'\u001b[0m\u001b[0;34m.\u001b[0m\u001b[0mformat\u001b[0m\u001b[0;34m(\u001b[0m\u001b[0mtester\u001b[0m\u001b[0;34m.\u001b[0m\u001b[0mout_results\u001b[0m\u001b[0;34m)\u001b[0m\u001b[0;34m)\u001b[0m\u001b[0;34m\u001b[0m\u001b[0;34m\u001b[0m\u001b[0m\n",
      "\u001b[0;32m/home/advanced/ip_hpbg_c40fla/nodm/default/units/ws_larrauri/simulation/fcv_c40fla_bgp/advanced-bayesian-opt/tester/tester.py\u001b[0m in \u001b[0;36mload_out_results\u001b[0;34m(self, timeout, waiting_tolerance_threshold)\u001b[0m\n\u001b[1;32m    351\u001b[0m                     \u001b[0mprint\u001b[0m\u001b[0;34m(\u001b[0m\u001b[0;34m'Simulation took longer than timeout \\n'\u001b[0m\u001b[0;34m)\u001b[0m\u001b[0;34m\u001b[0m\u001b[0;34m\u001b[0m\u001b[0m\n\u001b[1;32m    352\u001b[0m                     \u001b[0;32mreturn\u001b[0m\u001b[0;34m\u001b[0m\u001b[0;34m\u001b[0m\u001b[0m\n\u001b[0;32m--> 353\u001b[0;31m                 \u001b[0mtime\u001b[0m\u001b[0;34m.\u001b[0m\u001b[0msleep\u001b[0m\u001b[0;34m(\u001b[0m\u001b[0;36m10\u001b[0m\u001b[0;34m)\u001b[0m\u001b[0;34m\u001b[0m\u001b[0;34m\u001b[0m\u001b[0m\n\u001b[0m\u001b[1;32m    354\u001b[0m                 \u001b[0;32mcontinue\u001b[0m\u001b[0;34m\u001b[0m\u001b[0;34m\u001b[0m\u001b[0m\n\u001b[1;32m    355\u001b[0m \u001b[0;34m\u001b[0m\u001b[0m\n",
      "\u001b[0;31mKeyboardInterrupt\u001b[0m: "
     ]
    }
   ],
   "source": [
    "y=evaluate_model(np.array([2.3, 1.20, 42.]))\n",
    "print(y)"
   ]
  },
  {
   "cell_type": "code",
   "execution_count": 13,
   "id": "70f82839",
   "metadata": {
    "scrolled": true
   },
   "outputs": [
    {
     "name": "stdout",
     "output_type": "stream",
     "text": [
      "/home/advanced/ip_hpbg_c40fla/nodm/default/units/ws_larrauri/simulation/fcv_c40fla_bgp\n",
      "Hello\n"
     ]
    },
    {
     "name": "stderr",
     "output_type": "stream",
     "text": [
      "./setup_fcv: line 2: module: command not found\n",
      "./setup_fcv: line 3: module: command not found\n",
      "./setup_fcv: line 4: alias: cdfcv: not found\n",
      "./setup_fcv: line 4: alias: cd /home/advanced/ip_hpbg_c40fla/nodm/default/units/ws_larrauri/simulation/fcv_c40fla_bgp: not found\n",
      "./setup_fcv: line 11: module: command not found\n",
      "./setup_fcv: line 12: module: command not found\n",
      "./setup_fcv: line 13: module: command not found\n",
      "./setup_fcv: line 14: module: command not found\n",
      "./setup_fcv: line 15: module: command not found\n",
      "./setup_fcv: line 16: module: command not found\n",
      "./setup_fcv: line 17: module: command not found\n",
      "./setup_fcv: line 26: module: command not found\n",
      "./setup_fcv: line 27: module: command not found\n",
      "./setup_fcv: line 29: module: command not found\n",
      "./setup_fcv: line 32: module: command not found\n",
      "./setup_fcv: line 34: module: command not found\n",
      "./setup_fcv: line 35: unalias: wv: not found\n",
      "./ifxfcvsetup.ini: line 2: alias: cdfcv: not found\n",
      "./ifxfcvsetup.ini: line 2: alias: cd /home/advanced/ip_hpbg_c40fla/nodm/default/units/ws_larrauri/simulation/fcv_c40fla_bgp: not found\n",
      "./ifxfcvsetup.ini: line 3: alias: mli: not found\n",
      "./ifxfcvsetup.ini: line 3: alias: module list: not found\n",
      "./ifxfcvsetup.ini: line 4: alias: mlo: not found\n",
      "./ifxfcvsetup.ini: line 4: alias: module load: not found\n",
      "./ifxfcvsetup.ini: line 6: module: command not found\n",
      "./ifxfcvsetup.ini: line 9: module: command not found\n",
      "./ifxfcvsetup.ini: line 10: module: command not found\n",
      "./ifxfcvsetup.ini: line 12: module: command not found\n",
      "./ifxfcvsetup.ini: line 13: module: command not found\n",
      "./ifxfcvsetup.ini: line 16: module: command not found\n",
      "./ifxfcvsetup.ini: line 19: module: command not found\n",
      "./ifxfcvsetup.ini: line 20: module: command not found\n",
      "./ifxfcvsetup.ini: line 22: module: command not found\n",
      "./ifxfcvsetup.ini: line 25: alias: xvj: not found\n",
      "./ifxfcvsetup.ini: line 25: alias: fcv -xavcs -v JOBS: not found\n",
      "./ifxfcvsetup.ini: line 26: alias: xaj: not found\n",
      "./ifxfcvsetup.ini: line 26: alias: fcv -v JOBS: not found\n",
      "./ifxfcvsetup.ini: line 28: alias: wv: not found\n",
      "./ifxfcvsetup.ini: line 28: alias: ifxlsf -eh_os LINUX60_64 wv &: not found\n",
      "./ifxfcvsetup.ini: line 29: alias: xterm_lsf: not found\n",
      "./ifxfcvsetup.ini: line 29: alias: ifxlsf -eh_os LINUX60_64 xterm &: not found\n",
      "./ifxfcvsetup.ini: line 31: alias: ams_firefox: not found\n",
      "./ifxfcvsetup.ini: line 31: alias: nohup firefox -P --no-remote &: not found\n",
      "./ifxfcvsetup.ini: line 32: alias: pps: not found\n",
      "./ifxfcvsetup.ini: line 32: alias: /home/ver_ams/fcv/addons/fcv/PPS/V4/pps.pl: not found\n",
      "./ifxfcvsetup.ini: line 33: alias: averid: not found\n",
      "./ifxfcvsetup.ini: line 33: alias: /home/ver_ams/fcv/addons/fcv/DOC/AVERID/create_fcv_docu.pl -file_list /home/ver_ams/doc/create_fcv_docu/list.txt -user_files docs_source/local_list.txt: not found\n"
     ]
    },
    {
     "data": {
      "text/plain": [
       "256"
      ]
     },
     "execution_count": 13,
     "metadata": {},
     "output_type": "execute_result"
    }
   ],
   "source": [
    "os.system(\"pwd\")\n",
    "os.system(\"source ./setup_fcv\")"
   ]
  },
  {
   "cell_type": "code",
   "execution_count": 4,
   "id": "630878e1",
   "metadata": {
    "pycharm": {
     "is_executing": true
    }
   },
   "outputs": [],
   "source": [
    "# Set run parameters\n",
    "\n",
    "num_samples=50\n",
    "observations=[]\n",
    "training_proportion=0.4\n",
    "optimization_proportion=1. - training_proportion\n",
    "\n",
    "log_std_coefficient=4.\n",
    "constant_std_coefficient=20.\n",
    "\n",
    "run_stats={\n",
    "    'num_samples':num_samples,\n",
    "    'training_proportion':training_proportion,\n",
    "    'log_std_coefficient':log_std_coefficient,\n",
    "    'constant_std_coefficient':constant_std_coefficient\n",
    "}\n",
    "\n",
    "path=os.path.join(log_path,'run_stats.txt')\n",
    "with open(path,'w') as file:\n",
    "    json.dump(run_stats,file)\n",
    "\n"
   ]
  },
  {
   "cell_type": "code",
   "execution_count": 51,
   "id": "1892ea72",
   "metadata": {
    "scrolled": true
   },
   "outputs": [
    {
     "name": "stdout",
     "output_type": "stream",
     "text": [
      "[ 2.1  1.2 42. ]\n",
      "[ 2.1  1.2 42. ]\n",
      "Simulator launched successfully!\n",
      "\n",
      "Check \"./simulation.log\" for logs of the fcv execution\n",
      "Simulation took longer than timeout \n",
      "\n",
      "\n",
      "Loaded out-results:\n",
      "{}\n"
     ]
    },
    {
     "ename": "KeyError",
     "evalue": "'RUN1'",
     "output_type": "error",
     "traceback": [
      "\u001b[0;31m---------------------------------------------------------------------------\u001b[0m",
      "\u001b[0;31mKeyError\u001b[0m                                  Traceback (most recent call last)",
      "\u001b[0;32m/tmp/ipykernel_29053/1156893701.py\u001b[0m in \u001b[0;36m<module>\u001b[0;34m\u001b[0m\n\u001b[0;32m----> 1\u001b[0;31m \u001b[0my\u001b[0m\u001b[0;34m=\u001b[0m\u001b[0mevaluate_model\u001b[0m\u001b[0;34m(\u001b[0m\u001b[0mnp\u001b[0m\u001b[0;34m.\u001b[0m\u001b[0marray\u001b[0m\u001b[0;34m(\u001b[0m\u001b[0;34m[\u001b[0m\u001b[0;36m2.1\u001b[0m\u001b[0;34m,\u001b[0m \u001b[0;36m1.20\u001b[0m\u001b[0;34m,\u001b[0m \u001b[0;36m42.\u001b[0m\u001b[0;34m]\u001b[0m\u001b[0;34m)\u001b[0m\u001b[0;34m)\u001b[0m\u001b[0;34m\u001b[0m\u001b[0;34m\u001b[0m\u001b[0m\n\u001b[0m\u001b[1;32m      2\u001b[0m \u001b[0mprint\u001b[0m\u001b[0;34m(\u001b[0m\u001b[0my\u001b[0m\u001b[0;34m)\u001b[0m\u001b[0;34m\u001b[0m\u001b[0;34m\u001b[0m\u001b[0m\n",
      "\u001b[0;32m/tmp/ipykernel_29053/1910079142.py\u001b[0m in \u001b[0;36mevaluate_model\u001b[0;34m(model_input)\u001b[0m\n\u001b[1;32m     51\u001b[0m \u001b[0;34m\u001b[0m\u001b[0m\n\u001b[1;32m     52\u001b[0m         \u001b[0;32mif\u001b[0m \u001b[0mone_datapoint\u001b[0m\u001b[0;34m:\u001b[0m\u001b[0;34m\u001b[0m\u001b[0;34m\u001b[0m\u001b[0m\n\u001b[0;32m---> 53\u001b[0;31m                 \u001b[0;32mreturn\u001b[0m \u001b[0m_evaluate_model_once\u001b[0m\u001b[0;34m(\u001b[0m\u001b[0mmodel_input\u001b[0m\u001b[0;34m)\u001b[0m\u001b[0;34m\u001b[0m\u001b[0;34m\u001b[0m\u001b[0m\n\u001b[0m\u001b[1;32m     54\u001b[0m         \u001b[0;32melse\u001b[0m\u001b[0;34m:\u001b[0m\u001b[0;34m\u001b[0m\u001b[0;34m\u001b[0m\u001b[0m\n\u001b[1;32m     55\u001b[0m                 \u001b[0;32mreturn\u001b[0m \u001b[0;34m[\u001b[0m\u001b[0m_evaluate_model_once\u001b[0m\u001b[0;34m(\u001b[0m\u001b[0mi\u001b[0m\u001b[0;34m)\u001b[0m \u001b[0;32mfor\u001b[0m \u001b[0mi\u001b[0m \u001b[0;32min\u001b[0m \u001b[0mmodel_input\u001b[0m\u001b[0;34m]\u001b[0m\u001b[0;34m\u001b[0m\u001b[0;34m\u001b[0m\u001b[0m\n",
      "\u001b[0;32m/tmp/ipykernel_29053/1910079142.py\u001b[0m in \u001b[0;36m_evaluate_model_once\u001b[0;34m(model_input)\u001b[0m\n\u001b[1;32m     31\u001b[0m         \u001b[0mprint\u001b[0m\u001b[0;34m(\u001b[0m\u001b[0;34m'\\nLoaded out-results:\\n{}'\u001b[0m\u001b[0;34m.\u001b[0m\u001b[0mformat\u001b[0m\u001b[0;34m(\u001b[0m\u001b[0mtester\u001b[0m\u001b[0;34m.\u001b[0m\u001b[0mout_results\u001b[0m\u001b[0;34m)\u001b[0m\u001b[0;34m)\u001b[0m\u001b[0;34m\u001b[0m\u001b[0;34m\u001b[0m\u001b[0m\n\u001b[1;32m     32\u001b[0m \u001b[0;34m\u001b[0m\u001b[0m\n\u001b[0;32m---> 33\u001b[0;31m         \u001b[0moutput\u001b[0m\u001b[0;34m=\u001b[0m\u001b[0mtester\u001b[0m\u001b[0;34m.\u001b[0m\u001b[0mout_results\u001b[0m\u001b[0;34m[\u001b[0m\u001b[0;34m'RUN1'\u001b[0m\u001b[0;34m]\u001b[0m\u001b[0;34m[\u001b[0m\u001b[0;34m'pms_V_hpbg'\u001b[0m\u001b[0;34m]\u001b[0m\u001b[0;34m\u001b[0m\u001b[0;34m\u001b[0m\u001b[0m\n\u001b[0m\u001b[1;32m     34\u001b[0m \u001b[0;34m\u001b[0m\u001b[0m\n\u001b[1;32m     35\u001b[0m         \u001b[0;31m# print('\\n Relevant output: \\n {}, {}'.format(output,output+1))\u001b[0m\u001b[0;34m\u001b[0m\u001b[0;34m\u001b[0m\u001b[0;34m\u001b[0m\u001b[0m\n",
      "\u001b[0;31mKeyError\u001b[0m: 'RUN1'"
     ]
    }
   ],
   "source": [
    "y=evaluate_model(np.array([2.1, 1.20, 42.]))\n",
    "print(y)"
   ]
  },
  {
   "cell_type": "code",
   "execution_count": 45,
   "id": "53a548ec",
   "metadata": {},
   "outputs": [],
   "source": [
    "exec(open('/opt/Modules/init/python.py').read())\n",
    "module(\"load\",\"fcv/1.7.4\")\n",
    "module(\"load\", \"titan/9.3.1\")"
   ]
  },
  {
   "cell_type": "code",
   "execution_count": 48,
   "id": "ac08f27a",
   "metadata": {},
   "outputs": [
    {
     "name": "stdout",
     "output_type": "stream",
     "text": [
      "Full chip verification environment (v1.7.4, build 562)\n",
      "(using Titan/2.70 package)\n",
      "\n",
      "syntax:\n",
      "\tfcv <pattern>[/<run|set>]\n",
      " or \tfcv <pattern>/<set>/<run>\n",
      " or \tfcv <command>\n",
      "\n",
      "commands:\n",
      "\tCHECK                    Check all runs and source files for possible issues\n",
      "\tEXPORT                   Export report to /opt/basar/fcv\n",
      "\tJOBS                     Display active jobs\n",
      "\tLIC                      Display license usage\n",
      "\tPATTERN                  List all patterns that are currently in use\n",
      "\tPENDING                  View pending jobs that are in queue\n",
      "\tSUMMARY                  Update simulation results report\n",
      "\n",
      "switches:\n",
      "\t[-archive]               Archive the results of a run\n",
      "\t[-delay=X|-d=X]          Delay start of run by X minutes\n",
      "\t[-enqueue|-e]            Start run(s) via scheduler and not immediately\n",
      "\t[-exclude=REGEXP]        Exclude run(s) whose name matches regular expression REGEXP\n",
      "\t[-force]                 Perform certain actions even if not recommended by FCV\n",
      "\t[-interactive|-i]        Show summary and prompt before starting simulations\n",
      "\t[-list|-l]               List which runs would be started\n",
      "\t[-post]                  Do post-processing only\n",
      "\t[-nolimit]               Do no obey max. job limit\n",
      "\t[-nocond]                Ignore start conditions\n",
      "\t[-meas]                  Perform measurements on existing waveform file\n",
      "\t[-matlab_meas]           Perform matlab measurements only on existing waveform file\n",
      "\t[-pre]                   Prepare run, but don't start it\n",
      "\t[-replace=ID]            Kill job ID just before starting this run\n",
      "\t[-restore=STATE]         Restore XA-VCS simulation from a saved STATE\n",
      "\t[-setup_totem]           Setup Totem\n",
      "\t[-skip]                  Skip already completed runs\n",
      "\t[-skip_post_scripts]     Skip user defined post-processing scripts\n",
      "\t[-run_totem]             Run Totem\n",
      "\t[-suffix=SUFFIX]         Append SUFFIX to results run name(s)\n",
      "\t[-tidy]                  Remove waveform files when run was pass\n",
      "\t[-task=json_file]        Replace run info with task info defined in a json file\n",
      "\t[-unarchive]             Unarchive the results of a run\n",
      "\t[-verbose|-v]            Verbose output\n",
      "\t[-incisiv]               Use INCISIV as simulator\n",
      "\t[-spectre]               Use Spectre as simulator\n",
      "\t[-tcad]                  Use TCAD as simulator\n",
      "\t[-titan]                 Use Titan as simulator\n",
      "\t[-xavcs]                 Use XA-VCS as simulator\n",
      "\t[-ncsim]                 Use ncsim as simulator\n",
      "\t[-vcs]                   Use VCS as simulator\n",
      "\t[-xa]                    Use XA as simulator, which is the default simulator\n",
      "\t[-nl=X]                  Use netlist X instead of default netlist\n",
      "\n",
      "examples:\n",
      "\tfcv rx/nom\n",
      "\tfcv tx\n",
      "\tfcv vdrop/rcx/slow\n",
      "\tfcv JOBS\n"
     ]
    }
   ],
   "source": [
    "!fcv -titan"
   ]
  },
  {
   "cell_type": "code",
   "execution_count": 37,
   "id": "94bb8a99",
   "metadata": {},
   "outputs": [
    {
     "name": "stdout",
     "output_type": "stream",
     "text": [
      "/home/advanced/ip_hpbg_c40fla/nodm/default/units/ws_larrauri/simulation/fcv_c40fla_bgp\n",
      "/home/advanced/ip_hpbg_c40fla/nodm/default/units/ws_larrauri/simulation/fcv_c40fla_bgp\n",
      "Hello\n"
     ]
    },
    {
     "name": "stderr",
     "output_type": "stream",
     "text": [
      "./setup_fcv: line 2: module: command not found\n",
      "./setup_fcv: line 3: module: command not found\n",
      "./setup_fcv: line 4: alias: cdfcv: not found\n",
      "./setup_fcv: line 4: alias: cd /home/advanced/ip_hpbg_c40fla/nodm/default/units/ws_larrauri/simulation/fcv_c40fla_bgp: not found\n",
      "./setup_fcv: line 11: module: command not found\n",
      "./setup_fcv: line 12: module: command not found\n",
      "./setup_fcv: line 13: module: command not found\n",
      "./setup_fcv: line 14: module: command not found\n",
      "./setup_fcv: line 15: module: command not found\n",
      "./setup_fcv: line 16: module: command not found\n",
      "./setup_fcv: line 17: module: command not found\n",
      "./setup_fcv: line 26: module: command not found\n",
      "./setup_fcv: line 27: module: command not found\n",
      "./setup_fcv: line 29: module: command not found\n",
      "./setup_fcv: line 32: module: command not found\n",
      "./setup_fcv: line 34: module: command not found\n",
      "./setup_fcv: line 35: unalias: wv: not found\n",
      "./ifxfcvsetup.ini: line 2: alias: cdfcv: not found\n",
      "./ifxfcvsetup.ini: line 2: alias: cd /home/advanced/ip_hpbg_c40fla/nodm/default/units/ws_larrauri/simulation/fcv_c40fla_bgp: not found\n",
      "./ifxfcvsetup.ini: line 3: alias: mli: not found\n",
      "./ifxfcvsetup.ini: line 3: alias: module list: not found\n",
      "./ifxfcvsetup.ini: line 4: alias: mlo: not found\n",
      "./ifxfcvsetup.ini: line 4: alias: module load: not found\n",
      "./ifxfcvsetup.ini: line 6: module: command not found\n",
      "./ifxfcvsetup.ini: line 9: module: command not found\n",
      "./ifxfcvsetup.ini: line 10: module: command not found\n",
      "./ifxfcvsetup.ini: line 12: module: command not found\n",
      "./ifxfcvsetup.ini: line 13: module: command not found\n",
      "./ifxfcvsetup.ini: line 16: module: command not found\n",
      "./ifxfcvsetup.ini: line 19: module: command not found\n",
      "./ifxfcvsetup.ini: line 20: module: command not found\n",
      "./ifxfcvsetup.ini: line 22: module: command not found\n",
      "./ifxfcvsetup.ini: line 25: alias: xvj: not found\n",
      "./ifxfcvsetup.ini: line 25: alias: fcv -xavcs -v JOBS: not found\n",
      "./ifxfcvsetup.ini: line 26: alias: xaj: not found\n",
      "./ifxfcvsetup.ini: line 26: alias: fcv -v JOBS: not found\n",
      "./ifxfcvsetup.ini: line 28: alias: wv: not found\n",
      "./ifxfcvsetup.ini: line 28: alias: ifxlsf -eh_os LINUX60_64 wv &: not found\n",
      "./ifxfcvsetup.ini: line 29: alias: xterm_lsf: not found\n",
      "./ifxfcvsetup.ini: line 29: alias: ifxlsf -eh_os LINUX60_64 xterm &: not found\n",
      "./ifxfcvsetup.ini: line 31: alias: ams_firefox: not found\n",
      "./ifxfcvsetup.ini: line 31: alias: nohup firefox -P --no-remote &: not found\n",
      "./ifxfcvsetup.ini: line 32: alias: pps: not found\n",
      "./ifxfcvsetup.ini: line 32: alias: /home/ver_ams/fcv/addons/fcv/PPS/V4/pps.pl: not found\n",
      "./ifxfcvsetup.ini: line 33: alias: averid: not found\n",
      "./ifxfcvsetup.ini: line 33: alias: /home/ver_ams/fcv/addons/fcv/DOC/AVERID/create_fcv_docu.pl -file_list /home/ver_ams/doc/create_fcv_docu/list.txt -user_files docs_source/local_list.txt: not found\n"
     ]
    },
    {
     "data": {
      "text/plain": [
       "256"
      ]
     },
     "execution_count": 37,
     "metadata": {},
     "output_type": "execute_result"
    }
   ],
   "source": [
    "\n",
    "print(os.getcwd())\n",
    "os.system(\"pwd\")\n",
    "os.system(\"source ./setup_fcv\")\n",
    "# os.system(\"nohup fcv -titan 'hpbg_startup_trimall/.*'\")"
   ]
  },
  {
   "cell_type": "code",
   "execution_count": 5,
   "id": "3aeda836",
   "metadata": {
    "pycharm": {
     "is_executing": true
    }
   },
   "outputs": [],
   "source": [
    "num_training_samples=np.int32(num_samples*training_proportion)\n",
    "# num_optimization_rounds=np.int32(optimization_proportion*num_samples)"
   ]
  },
  {
   "cell_type": "code",
   "execution_count": 6,
   "id": "227dbcbf",
   "metadata": {
    "pycharm": {
     "is_executing": true
    }
   },
   "outputs": [
    {
     "name": "stdout",
     "output_type": "stream",
     "text": [
      "[[  2.6137497   1.4071687 -25.7629   ]\n",
      " [  2.419876    1.2880507  58.061584 ]\n",
      " [  2.525138    1.2357097 141.99878  ]\n",
      " [  2.248794    1.3723686 147.40392  ]\n",
      " [  2.2047296   1.1144536 -20.61339  ]\n",
      " [  2.4396596   1.291854  127.023766 ]\n",
      " [  2.725794    1.2930049  -4.3790236]\n",
      " [  2.5396724   1.2024204   7.609767 ]\n",
      " [  2.7406926   1.1138864 108.60978  ]\n",
      " [  2.381344    1.170571  -18.158066 ]\n",
      " [  2.7126956   1.1339333  -3.1079893]\n",
      " [  2.631066    1.1444539  75.83801  ]\n",
      " [  2.5056355   1.2509494 103.07014  ]\n",
      " [  2.3535879   1.2775686 -38.675007 ]\n",
      " [  2.4692965   1.2127479 -30.094402 ]\n",
      " [  2.3808885   1.102832   27.209188 ]\n",
      " [  2.5240314   1.3537577  93.05709  ]\n",
      " [  2.3493598   1.123891   27.119555 ]\n",
      " [  2.3970685   1.2017182  75.25384  ]\n",
      " [  2.6828477   1.3266284 -31.987648 ]]\n",
      "[  2.6137497   1.4071687 -25.7629   ]\n",
      "Simulator launched successfully!\n",
      "\n",
      "Check \"./simulation.log\" for logs of the fcv execution\n",
      "Simulation took longer than timeout \n",
      "\n",
      "\n",
      "Loaded out-results:\n",
      "{}\n"
     ]
    },
    {
     "ename": "KeyError",
     "evalue": "'RUN1'",
     "output_type": "error",
     "traceback": [
      "\u001b[0;31m---------------------------------------------------------------------------\u001b[0m",
      "\u001b[0;31mKeyError\u001b[0m                                  Traceback (most recent call last)",
      "\u001b[0;32m/tmp/ipykernel_8196/873916058.py\u001b[0m in \u001b[0;36m<module>\u001b[0;34m\u001b[0m\n\u001b[1;32m      2\u001b[0m \u001b[0mtraining_Xs\u001b[0m\u001b[0;34m=\u001b[0m\u001b[0mnp\u001b[0m\u001b[0;34m.\u001b[0m\u001b[0mrandom\u001b[0m\u001b[0;34m.\u001b[0m\u001b[0muniform\u001b[0m\u001b[0;34m(\u001b[0m\u001b[0mlb\u001b[0m\u001b[0;34m,\u001b[0m \u001b[0mub\u001b[0m\u001b[0;34m,\u001b[0m \u001b[0;34m(\u001b[0m\u001b[0mnum_training_samples\u001b[0m\u001b[0;34m,\u001b[0m\u001b[0;36m3\u001b[0m\u001b[0;34m)\u001b[0m\u001b[0;34m)\u001b[0m\u001b[0;34m\u001b[0m\u001b[0;34m\u001b[0m\u001b[0m\n\u001b[1;32m      3\u001b[0m \u001b[0mtraining_Xs\u001b[0m\u001b[0;34m=\u001b[0m\u001b[0mtraining_Xs\u001b[0m\u001b[0;34m.\u001b[0m\u001b[0mastype\u001b[0m\u001b[0;34m(\u001b[0m\u001b[0mnp\u001b[0m\u001b[0;34m.\u001b[0m\u001b[0mfloat32\u001b[0m\u001b[0;34m)\u001b[0m\u001b[0;34m\u001b[0m\u001b[0;34m\u001b[0m\u001b[0m\n\u001b[0;32m----> 4\u001b[0;31m \u001b[0mtraining_ys\u001b[0m\u001b[0;34m=\u001b[0m\u001b[0mevaluate_model\u001b[0m\u001b[0;34m(\u001b[0m\u001b[0mtraining_Xs\u001b[0m\u001b[0;34m)\u001b[0m\u001b[0;34m\u001b[0m\u001b[0;34m\u001b[0m\u001b[0m\n\u001b[0m\u001b[1;32m      5\u001b[0m \u001b[0mtraining_ys\u001b[0m\u001b[0;34m=\u001b[0m\u001b[0mtraining_ys\u001b[0m\u001b[0;34m.\u001b[0m\u001b[0mastype\u001b[0m\u001b[0;34m(\u001b[0m\u001b[0mnp\u001b[0m\u001b[0;34m.\u001b[0m\u001b[0mfloat32\u001b[0m\u001b[0;34m)\u001b[0m\u001b[0;34m\u001b[0m\u001b[0;34m\u001b[0m\u001b[0m\n\u001b[1;32m      6\u001b[0m \u001b[0;34m\u001b[0m\u001b[0m\n",
      "\u001b[0;32m/tmp/ipykernel_8196/1692581043.py\u001b[0m in \u001b[0;36mevaluate_model\u001b[0;34m(model_input)\u001b[0m\n\u001b[1;32m     53\u001b[0m                 \u001b[0;32mreturn\u001b[0m \u001b[0m_evaluate_model_once\u001b[0m\u001b[0;34m(\u001b[0m\u001b[0mmodel_input\u001b[0m\u001b[0;34m)\u001b[0m\u001b[0;34m\u001b[0m\u001b[0;34m\u001b[0m\u001b[0m\n\u001b[1;32m     54\u001b[0m         \u001b[0;32melse\u001b[0m\u001b[0;34m:\u001b[0m\u001b[0;34m\u001b[0m\u001b[0;34m\u001b[0m\u001b[0m\n\u001b[0;32m---> 55\u001b[0;31m                 \u001b[0;32mreturn\u001b[0m \u001b[0;34m[\u001b[0m\u001b[0m_evaluate_model_once\u001b[0m\u001b[0;34m(\u001b[0m\u001b[0mi\u001b[0m\u001b[0;34m)\u001b[0m \u001b[0;32mfor\u001b[0m \u001b[0mi\u001b[0m \u001b[0;32min\u001b[0m \u001b[0mmodel_input\u001b[0m\u001b[0;34m]\u001b[0m\u001b[0;34m\u001b[0m\u001b[0;34m\u001b[0m\u001b[0m\n\u001b[0m\u001b[1;32m     56\u001b[0m \u001b[0;34m\u001b[0m\u001b[0m\n\u001b[1;32m     57\u001b[0m \u001b[0;34m\u001b[0m\u001b[0m\n",
      "\u001b[0;32m/tmp/ipykernel_8196/1692581043.py\u001b[0m in \u001b[0;36m<listcomp>\u001b[0;34m(.0)\u001b[0m\n\u001b[1;32m     53\u001b[0m                 \u001b[0;32mreturn\u001b[0m \u001b[0m_evaluate_model_once\u001b[0m\u001b[0;34m(\u001b[0m\u001b[0mmodel_input\u001b[0m\u001b[0;34m)\u001b[0m\u001b[0;34m\u001b[0m\u001b[0;34m\u001b[0m\u001b[0m\n\u001b[1;32m     54\u001b[0m         \u001b[0;32melse\u001b[0m\u001b[0;34m:\u001b[0m\u001b[0;34m\u001b[0m\u001b[0;34m\u001b[0m\u001b[0m\n\u001b[0;32m---> 55\u001b[0;31m                 \u001b[0;32mreturn\u001b[0m \u001b[0;34m[\u001b[0m\u001b[0m_evaluate_model_once\u001b[0m\u001b[0;34m(\u001b[0m\u001b[0mi\u001b[0m\u001b[0;34m)\u001b[0m \u001b[0;32mfor\u001b[0m \u001b[0mi\u001b[0m \u001b[0;32min\u001b[0m \u001b[0mmodel_input\u001b[0m\u001b[0;34m]\u001b[0m\u001b[0;34m\u001b[0m\u001b[0;34m\u001b[0m\u001b[0m\n\u001b[0m\u001b[1;32m     56\u001b[0m \u001b[0;34m\u001b[0m\u001b[0m\n\u001b[1;32m     57\u001b[0m \u001b[0;34m\u001b[0m\u001b[0m\n",
      "\u001b[0;32m/tmp/ipykernel_8196/1692581043.py\u001b[0m in \u001b[0;36m_evaluate_model_once\u001b[0;34m(model_input)\u001b[0m\n\u001b[1;32m     31\u001b[0m         \u001b[0mprint\u001b[0m\u001b[0;34m(\u001b[0m\u001b[0;34m'\\nLoaded out-results:\\n{}'\u001b[0m\u001b[0;34m.\u001b[0m\u001b[0mformat\u001b[0m\u001b[0;34m(\u001b[0m\u001b[0mtester\u001b[0m\u001b[0;34m.\u001b[0m\u001b[0mout_results\u001b[0m\u001b[0;34m)\u001b[0m\u001b[0;34m)\u001b[0m\u001b[0;34m\u001b[0m\u001b[0;34m\u001b[0m\u001b[0m\n\u001b[1;32m     32\u001b[0m \u001b[0;34m\u001b[0m\u001b[0m\n\u001b[0;32m---> 33\u001b[0;31m         \u001b[0moutput\u001b[0m\u001b[0;34m=\u001b[0m\u001b[0mtester\u001b[0m\u001b[0;34m.\u001b[0m\u001b[0mout_results\u001b[0m\u001b[0;34m[\u001b[0m\u001b[0;34m'RUN1'\u001b[0m\u001b[0;34m]\u001b[0m\u001b[0;34m[\u001b[0m\u001b[0;34m'pms_V_hpbg'\u001b[0m\u001b[0;34m]\u001b[0m\u001b[0;34m\u001b[0m\u001b[0;34m\u001b[0m\u001b[0m\n\u001b[0m\u001b[1;32m     34\u001b[0m \u001b[0;34m\u001b[0m\u001b[0m\n\u001b[1;32m     35\u001b[0m         \u001b[0;31m# print('\\n Relevant output: \\n {}, {}'.format(output,output+1))\u001b[0m\u001b[0;34m\u001b[0m\u001b[0;34m\u001b[0m\u001b[0;34m\u001b[0m\u001b[0m\n",
      "\u001b[0;31mKeyError\u001b[0m: 'RUN1'"
     ]
    }
   ],
   "source": [
    "# Generate training points \n",
    "training_Xs=np.random.uniform(lb, ub, (num_training_samples,3))\n",
    "training_Xs=training_Xs.astype(np.float32)\n",
    "training_ys=evaluate_model(training_Xs)\n",
    "training_ys=training_ys.astype(np.float32)\n",
    "\n",
    "#Normalize the data\n",
    "transform_X= StandardScaler()\n",
    "norm_training_Xs= transform_X.fit_transform(training_Xs)\n",
    "transform_y= StandardScaler()\n",
    "norm_training_ys= transform_y.fit_transform(training_ys[...,np.newaxis]).ravel()\n",
    "\n",
    "\n",
    "# Define trainable variables\n",
    "# We will use the squared exponential kernel with different relevances for each direction. We also consider some variance due to noise. \n",
    "\n",
    "constrain_positive = tfb.Shift(np.finfo(np.float32).tiny)(tfb.Exp())\n",
    "amplitude = tfp.util.TransformedVariable(\n",
    "    initial_value=1.,\n",
    "    bijector=constrain_positive,\n",
    "    name='amplitude',\n",
    "    dtype=np.float32)\n",
    "\n",
    "relevances = tfp.util.TransformedVariable(\n",
    "    initial_value=np.ones(n_dims),\n",
    "    bijector=constrain_positive,\n",
    "    name='relevances',\n",
    "    dtype=np.float32)\n",
    "\n",
    "# noise_var = tfp.util.TransformedVariable(\n",
    "#     initial_value=0.01,\n",
    "#     bijector=constrain_positive,\n",
    "#     name='noise_variance',\n",
    "#     dtype=np.float32)\n",
    "noise_var = tf.constant(0.) \n",
    "\n",
    "# trainable_variables=[v.trainable_variables[0] for v in [amplitude, relevances, noise_var]]\n",
    "\n",
    "trainable_variables=[v.trainable_variables[0] for v in [amplitude, relevances]]\n",
    "\n",
    "# We define a Gaussian proccess with the chosen kernel that depends on our trainable variables\n",
    "\n",
    "kernel=tfk.ExponentiatedQuadratic(amplitude,length_scale=1.0)\n",
    "kernel=tfk.FeatureScaled(kernel, scale_diag=relevances)\n",
    "gp=tfd.GaussianProcess(\n",
    "        kernel=kernel,\n",
    "        index_points=norm_training_Xs,\n",
    "        observation_noise_variance=noise_var,\n",
    "        jitter=1e-5)\n",
    "\n",
    "\n",
    "# Define a tf.function for faster repeated evaluation \n",
    "@tf.function(autograph=False, experimental_compile=False)\n",
    "def log_likelihood():\n",
    "    return gp.log_prob(norm_training_ys)\n",
    "\n",
    "# Now we optimize the model parameters.\n",
    "num_iters = 2000\n",
    "optimizer = tf.optimizers.Adam(learning_rate=.01)\n",
    "\n",
    "# Store the likelihood values during training, so we can plot the progress\n",
    "lls_ = np.zeros(num_iters, np.float32)\n",
    "for i in range(num_iters):\n",
    "    with tf.GradientTape() as tape:\n",
    "        loss = -log_likelihood()\n",
    "        grads = tape.gradient(loss, trainable_variables)\n",
    "        optimizer.apply_gradients(zip(grads, trainable_variables))\n",
    "        lls_[i] = loss.numpy()\n",
    "\n",
    "\n",
    "\n",
    "# Plot the loss evolution as a sanity check\n",
    "plt.figure(figsize=(12, 4))\n",
    "plt.plot(lls_)\n",
    "plt.xlabel(\"Training iteration\")\n",
    "plt.ylabel(\"Log marginal likelihood\")\n",
    "plt.show()\n",
    "\n",
    "    \n",
    "# Log all the relevant information\n",
    "\n",
    "filepath=os.path.join(log_path,'training.npyz')\n",
    "to_save={\n",
    "    'points':training_Xs,\n",
    "    'values':training_ys,\n",
    "    'norm_points':norm_training_Xs,\n",
    "    'norm_values':norm_training_ys,\n",
    "    'loss':lls_,\n",
    "    'amplitude':amplitude.numpy(),\n",
    "    'relevances':relevances.numpy(),\n",
    "    'noise':noise_var.numpy(),\n",
    "}\n",
    "with open(filepath,'wb') as file: \n",
    "    np.savez(file, **to_save)\n",
    "\n",
    "\n",
    "filepath=os.path.join(log_path,'scaler_X.pkl')\n",
    "with open(filepath,'wb') as file:\n",
    "    joblib.dump(transform_X,file)\n",
    "\n",
    "\n",
    "filepath=os.path.join(log_path,'scaler_y.pkl')  \n",
    "with open(filepath,'wb') as file:\n",
    "    joblib.dump(transform_y,file)\n",
    "\n"
   ]
  },
  {
   "cell_type": "code",
   "execution_count": 8,
   "id": "0946b94c",
   "metadata": {
    "pycharm": {
     "is_executing": true
    }
   },
   "outputs": [],
   "source": [
    "# Define the new limits and spec according to the transforms applied to train the model\n",
    "\n",
    "norm_ub=transform_X.transform([ub])[0].astype(np.float32)\n",
    "norm_lb=transform_X.transform([lb])[0].astype(np.float32)\n",
    "norm_out_spec=transform_y.transform(np.expand_dims(out_spec,-1)).ravel()\n",
    "\n",
    "\n",
    "# Helper function to call the sut using normalized coordinates\n",
    "\n",
    "def norm_evaluate_model(norm_x):\n",
    "    x=transform_X.inverse_transform(norm_x).astype(np.float32)\n",
    "    y=evaluate_model(x)\n",
    "    norm_y=transform_y.transform(y.reshape(1,-1)).astype(np.float32).ravel()[0]\n",
    "    return norm_y\n",
    "\n",
    "\n",
    "# Setting up the optimization rounds\n",
    "\n",
    "norm_observation_Xs=[tf.constant(i) for i in norm_training_Xs]\n",
    "norm_observation_ys=[tf.constant(i) for i in norm_training_ys]\n",
    "optimization_rounds=np.int32(optimization_proportion*num_samples)\n",
    "\n",
    "\n"
   ]
  },
  {
   "cell_type": "code",
   "execution_count": null,
   "id": "b6268db9",
   "metadata": {
    "pycharm": {
     "is_executing": true
    },
    "scrolled": true
   },
   "outputs": [
    {
     "name": "stdout",
     "output_type": "stream",
     "text": [
      "WARNING:tensorflow:From /home/llarrauriborroto/Documents/Projects/PythonVenv/lib/python3.8/site-packages/tensorflow_probability/python/distributions/distribution.py:346: calling GaussianProcess.__init__ (from tensorflow_probability.python.distributions.gaussian_process) with jitter is deprecated and will be removed after 2021-05-10.\n",
      "Instructions for updating:\n",
      "`jitter` is deprecated; please use `marginal_fn` directly.\n"
     ]
    },
    {
     "name": "stderr",
     "output_type": "stream",
     "text": [
      "Exception ignored in: <function IteratorResourceDeleter.__del__ at 0x7f0c88fb1430>\n",
      "Traceback (most recent call last):\n",
      "  File \"/home/llarrauriborroto/Documents/Projects/PythonVenv/lib/python3.8/site-packages/tensorflow/python/data/ops/iterator_ops.py\", line 545, in __del__\n",
      "    gen_dataset_ops.delete_iterator(\n",
      "  File \"/home/llarrauriborroto/Documents/Projects/PythonVenv/lib/python3.8/site-packages/tensorflow/python/ops/gen_dataset_ops.py\", line 1263, in delete_iterator\n",
      "    _result = pywrap_tfe.TFE_Py_FastPathExecute(\n",
      "KeyboardInterrupt: \n"
     ]
    }
   ],
   "source": [
    "t=0\n",
    "\n",
    "validation_samples=300\n",
    "\n",
    "norm_validation_Xs=np.random.uniform(norm_lb, norm_ub, (validation_samples,3))\n",
    "norm_validation_Xs=[i for i in norm_validation_Xs.astype(np.float32)]\n",
    "\n",
    "\n",
    "model_info={\n",
    "    'max_std':[],\n",
    "    'typical_std':[],\n",
    "    'max_dist':[],\n",
    "    'typical_dist':[]\n",
    "}\n",
    "\n",
    "\n",
    "\n",
    "def get_model_stats():\n",
    "    \n",
    "    @tf.function(autograph=False, experimental_compile=False)\n",
    "    def std_distance(x, y):\n",
    "        gp_model=tfd.GaussianProcessRegressionModel(\n",
    "        kernel=kernel,\n",
    "        index_points=[x],\n",
    "        observation_index_points=norm_observation_Xs,\n",
    "        observations=norm_observation_ys,\n",
    "        observation_noise_variance=noise_var,\n",
    "        predictive_noise_variance=0.,\n",
    "        jitter=1e-5)    \n",
    "        return (abs(gp_model.mean()-y))/gp_model.stddev()\n",
    "\n",
    "    @tf.function(autograph=False, experimental_compile=False)\n",
    "    def distance(x, y):\n",
    "        gp_model=tfd.GaussianProcessRegressionModel(\n",
    "        kernel=kernel,\n",
    "        index_points=[x],\n",
    "        observation_index_points=norm_observation_Xs,\n",
    "        observations=norm_observation_ys,\n",
    "        observation_noise_variance=noise_var,\n",
    "        predictive_noise_variance=0.,\n",
    "        jitter=1e-5)    \n",
    "        return (abs(gp_model.mean()-y))\n",
    "\n",
    "    def point_std_score(x):\n",
    "        y=norm_evaluate_model(x)\n",
    "        return std_distance(x,y)\n",
    "\n",
    "    def point_score(x):\n",
    "        y=norm_evaluate_model(x)\n",
    "        return distance(x,y)\n",
    "\n",
    "    \n",
    "    point, value=pso(func=lambda x: -point_score(np.float32(x)), lb=norm_lb, ub=norm_ub, maxiter=15, debug=False)\n",
    "    model_info['max_dist'].append(-value)\n",
    "\n",
    "    point, value=pso(func=lambda x: -point_std_score(np.float32(x)), lb=norm_lb, ub=norm_ub, maxiter=15, debug=False)\n",
    "    model_info['max_std'].append(-value)\n",
    "\n",
    "\n",
    "    scores=[point_score(x) for x in norm_validation_Xs]\n",
    "    scores.sort()\n",
    "    model_info['typical_dist'].append(scores[-1])\n",
    "\n",
    "\n",
    "    std_scores=[point_std_score(x) for x in norm_validation_Xs]\n",
    "    std_scores.sort()\n",
    "    model_info['typical_std'].append(std_scores[-1])\n",
    "\n",
    "    return\n",
    "\n",
    "\n",
    "\n",
    "\n",
    "current_max_value=max(norm_observation_ys)\n",
    "current_max_point=norm_observation_Xs[norm_observation_ys.index(current_max_value)]\n",
    "\n",
    "values=[current_max_value]\n",
    "choices=[current_max_point]\n",
    "\n",
    "for i in range (optimization_rounds): \n",
    "    \n",
    "    @tf.function(autograph=False, experimental_compile=False)\n",
    "    def adquisition_fn(x):\n",
    "        gp_model=tfd.GaussianProcessRegressionModel(\n",
    "        kernel=kernel,\n",
    "        index_points=[x],\n",
    "        observation_index_points=norm_observation_Xs,\n",
    "        observations=norm_observation_ys,\n",
    "        observation_noise_variance=noise_var,\n",
    "        predictive_noise_variance=0.,\n",
    "        jitter=1e-4)\n",
    "\n",
    "        return gp_model.mean() + tf.cast(tf.sqrt(log_std_coefficient*np.log2(t+1) + constant_std_coefficient),dtype=tf.float32)*gp_model.stddev()\n",
    "\n",
    "    if i%10==0:\n",
    "        get_model_stats()\n",
    "    next_point, value=pso(func=lambda x: -adquisition_fn(np.float32(x)), lb=norm_lb, ub=norm_ub, maxiter=50, debug=False)\n",
    "    next_value = norm_evaluate_model(next_point)\n",
    "\n",
    "    values.append(next_value)\n",
    "    choices.append(next_point)\n",
    "\n",
    "    norm_observation_ys.append(tf.constant(next_value,dtype=np.float32))\n",
    "    norm_observation_Xs.append(tf.constant(next_point, dtype=np.float32))\n",
    "\n",
    "    t=t+1\n",
    "\n",
    "\n",
    "#     Get regrets \n",
    "\n",
    "real_values=transform_y.inverse_transform(values[1:])\n",
    "real_choices=transform_X.inverse_transform(choices[1:])\n",
    "\n",
    "regrets=max_value-real_values\n",
    "\n",
    "mean_regrets=[]\n",
    "for i in range (len(regrets)):\n",
    "    mean=sum(regrets[:i+1])/(i+1.)\n",
    "    mean_regrets.append(mean)\n",
    "\n",
    "    \n",
    "#     Log relevant information about the optimization rounds\n",
    "    \n",
    "filepath=os.path.join(log_path,'optimization_rounds.npyz')\n",
    "to_save={\n",
    "    'values':real_values,\n",
    "    'choices':real_choices,\n",
    "    'mean_regrets':mean_regrets\n",
    "}\n",
    "\n",
    "with open(filepath,'wb') as file: \n",
    "    np.savez(file, **to_save)\n",
    "\n",
    "    \n",
    "filepath=os.path.join(log_path,'fitting_during_optimization.npyz')\n",
    "with open(filepath,'wb') as file: \n",
    "    np.savez(file, **model_info)\n",
    "\n",
    "    \n"
   ]
  },
  {
   "cell_type": "code",
   "execution_count": 10,
   "id": "f070b10e",
   "metadata": {
    "pycharm": {
     "is_executing": true
    }
   },
   "outputs": [
    {
     "data": {
      "text/plain": [
       "Text(0, 0.5, 'Value')"
      ]
     },
     "execution_count": 10,
     "metadata": {},
     "output_type": "execute_result"
    },
    {
     "data": {
      "image/png": "[encoded data removed]",
      "text/plain": [
       "<Figure size 864x288 with 1 Axes>"
      ]
     },
     "metadata": {
      "needs_background": "light"
     },
     "output_type": "display_data"
    }
   ],
   "source": [
    "plt.figure(figsize=(12, 4))\n",
    "plt.plot(regrets)\n",
    "plt.xlabel(\"Optimization iteration\")\n",
    "plt.ylabel(\"Value\")"
   ]
  },
  {
   "cell_type": "code",
   "execution_count": 11,
   "id": "4107b03a",
   "metadata": {
    "pycharm": {
     "is_executing": true
    }
   },
   "outputs": [
    {
     "data": {
      "image/png": "[encoded data removed]",
      "text/plain": [
       "<Figure size 864x288 with 1 Axes>"
      ]
     },
     "metadata": {
      "needs_background": "light"
     },
     "output_type": "display_data"
    }
   ],
   "source": [
    "plt.figure(figsize=(12, 4))\n",
    "plt.plot(mean_regrets)\n",
    "plt.xlabel(\"Optimization iteration\")\n",
    "plt.ylabel(\"Mean regret\")\n",
    "plt.show()"
   ]
  },
  {
   "cell_type": "code",
   "execution_count": 12,
   "id": "f5584a9d",
   "metadata": {
    "pycharm": {
     "is_executing": true
    }
   },
   "outputs": [
    {
     "data": {
      "text/plain": [
       "Text(0, 0.5, 'Value')"
      ]
     },
     "execution_count": 12,
     "metadata": {},
     "output_type": "execute_result"
    },
    {
     "data": {
      "image/png": "[encoded data removed]",
      "text/plain": [
       "<Figure size 864x288 with 1 Axes>"
      ]
     },
     "metadata": {
      "needs_background": "light"
     },
     "output_type": "display_data"
    }
   ],
   "source": [
    "real_dists=transform_y.inverse_transform(model_info['typical_dist'])-transform_y.inverse_transform([0.0])\n",
    "plt.figure(figsize=(12, 4))\n",
    "plt.plot(real_dists)\n",
    "plt.xlabel(\"Optimization iteration/10\")\n",
    "plt.ylabel(\"Value\")\n"
   ]
  },
  {
   "cell_type": "code",
   "execution_count": 13,
   "id": "e7ae2187",
   "metadata": {
    "pycharm": {
     "is_executing": true
    }
   },
   "outputs": [
    {
     "data": {
      "text/plain": [
       "Text(0, 0.5, 'Value')"
      ]
     },
     "execution_count": 13,
     "metadata": {},
     "output_type": "execute_result"
    },
    {
     "data": {
      "image/png": "[encoded data removed]",
      "text/plain": [
       "<Figure size 864x288 with 1 Axes>"
      ]
     },
     "metadata": {
      "needs_background": "light"
     },
     "output_type": "display_data"
    }
   ],
   "source": [
    "plt.figure(figsize=(12, 4))\n",
    "plt.plot(model_info['max_std'])\n",
    "plt.xlabel(\"Optimization iteration\")\n",
    "plt.ylabel(\"Value\")"
   ]
  },
  {
   "cell_type": "code",
   "execution_count": 15,
   "id": "c919aaff",
   "metadata": {
    "pycharm": {
     "is_executing": true
    }
   },
   "outputs": [
    {
     "name": "stdout",
     "output_type": "stream",
     "text": [
      "0.15649648690214807\n"
     ]
    }
   ],
   "source": [
    "dists=[np.linalg.norm(i) for i in (real_choices-max_point)]\n",
    "print(min(dists))"
   ]
  },
  {
   "cell_type": "code",
   "execution_count": 16,
   "id": "4538a3f8",
   "metadata": {
    "pycharm": {
     "is_executing": true
    }
   },
   "outputs": [
    {
     "name": "stdout",
     "output_type": "stream",
     "text": [
      "1.1369606\n",
      "1.1369636\n"
     ]
    }
   ],
   "source": [
    "print(max(real_values))\n",
    "print(max_value)"
   ]
  },
  {
   "cell_type": "code",
   "execution_count": 18,
   "id": "91eff28b",
   "metadata": {},
   "outputs": [
    {
     "name": "stdout",
     "output_type": "stream",
     "text": [
      "Stopping search: maximum iterations reached --> 50\n"
     ]
    }
   ],
   "source": [
    "min_point, min_value=pso(func=lambda x: -evaluate_model(x), lb=lb, ub=ub, maxiter=50, debug=False)\n"
   ]
  },
  {
   "cell_type": "code",
   "execution_count": 19,
   "id": "050a7caf",
   "metadata": {},
   "outputs": [
    {
     "name": "stdout",
     "output_type": "stream",
     "text": [
      "tf.Tensor(-2.51367, shape=(), dtype=float32)\n"
     ]
    }
   ],
   "source": [
    "print(value)"
   ]
  },
  {
   "cell_type": "code",
   "execution_count": 20,
   "id": "b0d018c9",
   "metadata": {},
   "outputs": [],
   "source": [
    "to_save={\n",
    "    'point':min_point,\n",
    "    'value':min_value\n",
    "}\n",
    "\n",
    "path=os.path.join('.','GPTraining','minimum.npyz')\n",
    "with open(path,'wb') as file:\n",
    "    np.savez(file,**to_save)"
   ]
  }
 ],
 "metadata": {
  "kernelspec": {
   "display_name": "Python 3 (ipykernel)",
   "language": "python",
   "name": "python3"
  },
  "language_info": {
   "codemirror_mode": {
    "name": "ipython",
    "version": 3
   },
   "file_extension": ".py",
   "mimetype": "text/x-python",
   "name": "python",
   "nbconvert_exporter": "python",
   "pygments_lexer": "ipython3",
   "version": "3.8.10"
  }
 },
 "nbformat": 4,
 "nbformat_minor": 5
}
