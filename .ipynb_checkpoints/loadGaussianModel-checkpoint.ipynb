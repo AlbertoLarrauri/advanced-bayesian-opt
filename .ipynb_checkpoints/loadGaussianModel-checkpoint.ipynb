{
 "cells": [
  {
   "cell_type": "code",
   "execution_count": 1,
   "metadata": {
    "pycharm": {
     "is_executing": true
    }
   },
   "outputs": [
    {
     "name": "stderr",
     "output_type": "stream",
     "text": [
      "2022-01-26 13:30:11.696546: W tensorflow/stream_executor/platform/default/dso_loader.cc:64] Could not load dynamic library 'libcudart.so.11.0'; dlerror: libcudart.so.11.0: cannot open shared object file: No such file or directory\n",
      "2022-01-26 13:30:11.696576: I tensorflow/stream_executor/cuda/cudart_stub.cc:29] Ignore above cudart dlerror if you do not have a GPU set up on your machine.\n"
     ]
    }
   ],
   "source": [
    "import time\n",
    "# import IPython\n",
    "import os\n",
    "import json\n",
    "from datetime import datetime\n",
    "import pyswarm\n",
    "import pandas\n",
    "\n",
    "import joblib\n",
    "import numpy as np\n",
    "import matplotlib.pyplot as plt\n",
    "# from mpl_toolkits.mplot3d import Axes3D\n",
    "import tensorflow.compat.v2 as tf\n",
    "import tensorflow_probability as tfp\n",
    "from tensorflow import keras\n",
    "import tensorflow.keras.backend as K\n",
    "\n",
    "\n",
    "from keras.models import Sequential, Model\n",
    "# from tensorflow.keras.layers import Input, Dense, Dropout, BatchNormalization, Lambda, Layer\n",
    "# from tensorflow.keras import losses\n",
    "# from keras.utils.vis_utils import plot_model, model_to_dot\n",
    "\n",
    "from sklearn.preprocessing import StandardScaler, MinMaxScaler\n",
    "import sklearn.preprocessing\n",
    "\n",
    "# from sklearn.model_selection import train_test_split\n",
    "# from sklearn.metrics import r2_score, mean_absolute_error, median_absolute_error\n",
    "\n",
    "K.set_floatx('float32')\n",
    "\n",
    "tfb = tfp.bijectors\n",
    "tfd = tfp.distributions\n",
    "tfk = tfp.math.psd_kernels\n",
    "\n",
    "tf.enable_v2_behavior()\n",
    "\n",
    "from tester.tester import Tester"
   ]
  },
  {
   "cell_type": "code",
   "execution_count": 2,
   "metadata": {
    "pycharm": {
     "name": "#%%\n"
    }
   },
   "outputs": [
    {
     "data": {
      "text/plain": [
       "'./2022_01_25_16_18_38'"
      ]
     },
     "execution_count": 2,
     "metadata": {},
     "output_type": "execute_result"
    }
   ],
   "source": [
    "log_path = os.path.join('.','2022_01_25_16_18_38')\n",
    "log_path"
   ]
  },
  {
   "cell_type": "code",
   "execution_count": 3,
   "metadata": {},
   "outputs": [
    {
     "data": {
      "text/plain": [
       "{'num_samples': 90,\n",
       " 'training_proportion': 0.4,\n",
       " 'log_std_coefficient': 4.0,\n",
       " 'constant_std_coefficient': 20.0}"
      ]
     },
     "execution_count": 3,
     "metadata": {},
     "output_type": "execute_result"
    }
   ],
   "source": [
    "path = os.path.join(log_path, 'run_stats.txt')\n",
    "with open(path, 'r') as file:\n",
    "    run_stats = json.load(file)    \n",
    "\n",
    "    \n",
    "num_samples = run_stats['num_samples']\n",
    "training_proportion = run_stats['training_proportion']\n",
    "optimization_proportion = 1. - training_proportion\n",
    "\n",
    "log_std_coefficient = run_stats['log_std_coefficient']\n",
    "constant_std_coefficient = run_stats['constant_std_coefficient']\n",
    "\n",
    "run_stats"
   ]
  },
  {
   "cell_type": "code",
   "execution_count": 4,
   "metadata": {},
   "outputs": [],
   "source": [
    "path = os.path.join(log_path, 'training.npyz')\n",
    "with open(path, 'rb') as file:\n",
    "    training_data = np.load(file)\n",
    "    training_Xs=training_data['points']\n",
    "    training_ys=training_data['values']\n",
    "    norm_training_Xs=training_data['norm_points']\n",
    "    norm_training_ys=training_data['norm_values']\n",
    "    lls_=training_data['loss']\n",
    "    amplitude= training_data['amplitude']\n",
    "    relevances= training_data['relevances']\n",
    "    noise_var= training_data['noise']\n",
    "    "
   ]
  },
  {
   "cell_type": "code",
   "execution_count": 5,
   "metadata": {},
   "outputs": [
    {
     "name": "stderr",
     "output_type": "stream",
     "text": [
      "/home/llarrauriborroto/Documents/Projects/advanced-bayesian-opt/lib/python3.8/site-packages/sklearn/utils/deprecation.py:144: FutureWarning: The sklearn.preprocessing.data module is  deprecated in version 0.22 and will be removed in version 0.24. The corresponding classes / functions should instead be imported from sklearn.preprocessing. Anything that cannot be imported from sklearn.preprocessing is now part of the private API.\n",
      "  warnings.warn(message, FutureWarning)\n",
      "/home/llarrauriborroto/Documents/Projects/advanced-bayesian-opt/lib/python3.8/site-packages/sklearn/base.py:313: UserWarning: Trying to unpickle estimator StandardScaler from version 0.21.2 when using version 0.22. This might lead to breaking code or invalid results. Use at your own risk.\n",
      "  warnings.warn(\n"
     ]
    }
   ],
   "source": [
    "path=os.path.join(log_path,'scaler_X.pkl')\n",
    "transform_X = joblib.load(path)\n",
    "path=os.path.join(log_path,'scaler_y.pkl')\n",
    "transform_y = joblib.load(path)\n"
   ]
  },
  {
   "cell_type": "code",
   "execution_count": 6,
   "metadata": {},
   "outputs": [
    {
     "data": {
      "text/plain": [
       "array([[ 0.55797064,  0.31779677,  1.1263825 ],\n",
       "       [-1.001019  ,  1.3053043 ,  0.22233792],\n",
       "       [-1.7105443 ,  1.4120718 , -0.55171585],\n",
       "       [-0.6617521 ,  0.70769274,  0.05363295],\n",
       "       [-0.4698539 ,  0.83693504,  0.42663938],\n",
       "       [ 0.80659527, -1.1029892 , -0.840106  ],\n",
       "       [ 0.6253257 , -0.04667268,  1.0358412 ],\n",
       "       [ 1.207303  , -1.167522  ,  1.2467434 ],\n",
       "       [-1.0687643 , -0.99639845,  0.54136467],\n",
       "       [ 1.4328182 ,  0.39274195,  0.7311128 ],\n",
       "       [ 1.367053  , -1.079461  , -0.92183006],\n",
       "       [-0.45309997, -1.8652222 , -0.3337384 ],\n",
       "       [ 0.11859892,  1.3005259 , -0.2365356 ],\n",
       "       [-0.06587341,  0.36932373,  1.7108797 ],\n",
       "       [-0.6962158 ,  0.529022  , -0.7303287 ],\n",
       "       [ 1.2756422 ,  1.2267271 ,  0.548449  ],\n",
       "       [-1.7271004 ,  0.34880668, -0.37390026],\n",
       "       [ 1.1472366 , -1.3975664 , -0.04322033],\n",
       "       [ 0.38927355,  0.7756967 ,  0.1167587 ],\n",
       "       [ 0.06283772,  0.53170174, -0.13137032],\n",
       "       [ 0.61982626, -1.8264227 ,  0.94836736],\n",
       "       [-0.8460952 ,  1.010632  ,  0.79292405],\n",
       "       [-0.44931838,  0.9481805 , -1.0462689 ],\n",
       "       [ 1.1953888 ,  0.18856558,  1.6296388 ],\n",
       "       [ 1.0212556 ,  0.66151047, -1.3080468 ],\n",
       "       [ 0.93165135, -1.6211469 , -1.2982775 ],\n",
       "       [-1.0260792 , -0.361271  , -0.7919109 ],\n",
       "       [ 0.9678221 ,  0.24390885,  1.4579642 ],\n",
       "       [-1.5385813 ,  1.2720969 , -1.3518966 ],\n",
       "       [-0.89687264, -1.1318462 , -1.4296238 ],\n",
       "       [ 1.2763126 , -1.1847867 , -1.0312736 ],\n",
       "       [-0.6851793 , -0.92354065,  0.71883225],\n",
       "       [-1.1106055 ,  0.09862365, -1.6897666 ],\n",
       "       [-0.9158088 ,  1.1538285 , -0.1214096 ],\n",
       "       [-1.007081  ,  0.07552325,  2.0277245 ],\n",
       "       [ 1.3269324 , -1.0023701 , -1.1043735 ]], dtype=float32)"
      ]
     },
     "execution_count": 6,
     "metadata": {},
     "output_type": "execute_result"
    }
   ],
   "source": [
    "norm_training_Xs\n"
   ]
  },
  {
   "cell_type": "code",
   "execution_count": 7,
   "metadata": {},
   "outputs": [
    {
     "name": "stderr",
     "output_type": "stream",
     "text": [
      "2022-01-26 13:31:00.383471: W tensorflow/stream_executor/platform/default/dso_loader.cc:64] Could not load dynamic library 'libcuda.so.1'; dlerror: libcuda.so.1: cannot open shared object file: No such file or directory\n",
      "2022-01-26 13:31:00.383616: W tensorflow/stream_executor/cuda/cuda_driver.cc:269] failed call to cuInit: UNKNOWN ERROR (303)\n",
      "2022-01-26 13:31:00.383646: I tensorflow/stream_executor/cuda/cuda_diagnostics.cc:156] kernel driver does not appear to be running on this host (t460slalb): /proc/driver/nvidia/version does not exist\n",
      "2022-01-26 13:31:00.384523: I tensorflow/core/platform/cpu_feature_guard.cc:151] This TensorFlow binary is optimized with oneAPI Deep Neural Network Library (oneDNN) to use the following CPU instructions in performance-critical operations:  AVX2 FMA\n",
      "To enable them in other operations, rebuild TensorFlow with the appropriate compiler flags.\n"
     ]
    },
    {
     "data": {
      "text/plain": [
       "<tf.Tensor: shape=(), dtype=float32, numpy=-1.0450783>"
      ]
     },
     "execution_count": 7,
     "metadata": {},
     "output_type": "execute_result"
    }
   ],
   "source": [
    "kernel = tfk.ExponentiatedQuadratic(amplitude, length_scale=1.0)\n",
    "kernel = tfk.FeatureScaled(kernel, scale_diag=relevances)\n",
    "gp_model = tfd.GaussianProcessRegressionModel(\n",
    "    kernel=kernel,\n",
    "    index_points=[[1.2353002 , -0.7703848 ,  1.1779659]],\n",
    "    observation_index_points=norm_training_Xs,\n",
    "    observations=norm_training_ys,\n",
    "    observation_noise_variance=noise_var,\n",
    "    predictive_noise_variance=0.,\n",
    "    jitter=1e-4)\n",
    "\n",
    "gp_model.mean()"
   ]
  },
  {
   "cell_type": "code",
   "execution_count": 8,
   "metadata": {},
   "outputs": [],
   "source": [
    "path = os.path.join(log_path, 'optimization_rounds.npyz')\n",
    "with open(path, 'rb') as file:\n",
    "    optimization_data = np.load(file)\n",
    "    real_values=optimization_data['values']\n",
    "    real_choices=optimization_data['choices']\n",
    "    mean_regrets=optimization_data['mean_regrets']\n"
   ]
  },
  {
   "cell_type": "code",
   "execution_count": 43,
   "metadata": {},
   "outputs": [],
   "source": [
    "values= transform_y.transform(real_values.reshape(-1,1))\n",
    "choices= np.array(transform_X.transform(real_choices), dtype=np.float32)\n",
    "values=np.array(values.flatten(),dtype=np.float32)\n"
   ]
  },
  {
   "cell_type": "code",
   "execution_count": 10,
   "metadata": {},
   "outputs": [],
   "source": [
    "with open('./validation_samples.csv', newline='') as csvfile:\n",
    "    reader = pandas.read_csv(csvfile,delimiter=';')\n",
    "\n",
    "    "
   ]
  },
  {
   "cell_type": "code",
   "execution_count": 44,
   "metadata": {},
   "outputs": [
    {
     "data": {
      "text/plain": [
       "array([1.1358907, 1.1365881, 1.1364679, 1.1355258, 1.135202 , 1.1354039,\n",
       "       1.1359833, 1.1358706, 1.1354722, 1.1355873, 1.1356149, 1.136067 ,\n",
       "       1.1355072, 1.135894 , 1.1368655, 1.1367347, 1.1360666, 1.1356366,\n",
       "       1.1351925, 1.1363605, 1.1361253, 1.1356137, 1.1359258, 1.1361856,\n",
       "       1.1357933, 1.1364375, 1.1369287, 1.136221 , 1.1353245, 1.1357185,\n",
       "       1.1361742, 1.1368291, 1.1358026, 1.1352822, 1.1361651, 1.1363196,\n",
       "       1.1363792, 1.1361257, 1.1364133, 1.1364216, 1.1357597, 1.1362729,\n",
       "       1.1360664, 1.1357936, 1.1357865, 1.1355251, 1.1358663, 1.1368576,\n",
       "       1.1363742, 1.1364981, 1.1366631, 1.1361525, 1.1355667, 1.1361572],\n",
       "      dtype=float32)"
      ]
     },
     "execution_count": 44,
     "metadata": {},
     "output_type": "execute_result"
    }
   ],
   "source": [
    "real_values"
   ]
  },
  {
   "cell_type": "code",
   "execution_count": 14,
   "metadata": {},
   "outputs": [
    {
     "data": {
      "text/html": [
       "<div>\n",
       "<style scoped>\n",
       "    .dataframe tbody tr th:only-of-type {\n",
       "        vertical-align: middle;\n",
       "    }\n",
       "\n",
       "    .dataframe tbody tr th {\n",
       "        vertical-align: top;\n",
       "    }\n",
       "\n",
       "    .dataframe thead th {\n",
       "        text-align: right;\n",
       "    }\n",
       "</style>\n",
       "<table border=\"1\" class=\"dataframe\">\n",
       "  <thead>\n",
       "    <tr style=\"text-align: right;\">\n",
       "      <th></th>\n",
       "      <th>Parameter Label</th>\n",
       "      <th>Pattern</th>\n",
       "      <th>Run</th>\n",
       "      <th>Measurement Name</th>\n",
       "      <th>corner</th>\n",
       "      <th>p_vdda_evr</th>\n",
       "      <th>p_vdda_hpbg</th>\n",
       "      <th>p_vddpd</th>\n",
       "      <th>p_vref</th>\n",
       "      <th>p_vss</th>\n",
       "      <th>temperature</th>\n",
       "      <th>trimbg</th>\n",
       "      <th>trimcur</th>\n",
       "      <th>Unnamed: 13</th>\n",
       "      <th>Value</th>\n",
       "      <th>MC Mean</th>\n",
       "      <th>MC Stddev</th>\n",
       "      <th>Cp</th>\n",
       "      <th>Cpk</th>\n",
       "      <th>Unit</th>\n",
       "    </tr>\n",
       "  </thead>\n",
       "  <tbody>\n",
       "    <tr>\n",
       "      <th>4860</th>\n",
       "      <td>V_ref_1v133_untrimmed</td>\n",
       "      <td>hpbg_startup_trimall2</td>\n",
       "      <td>RUN0001</td>\n",
       "      <td>V_ref_1v133_untrimmed</td>\n",
       "      <td>nom</td>\n",
       "      <td>2.2</td>\n",
       "      <td>2.2</td>\n",
       "      <td>1.08</td>\n",
       "      <td>0.6</td>\n",
       "      <td>0</td>\n",
       "      <td>-40</td>\n",
       "      <td>64</td>\n",
       "      <td>16</td>\n",
       "      <td>NaN</td>\n",
       "      <td>1.136468</td>\n",
       "      <td></td>\n",
       "      <td></td>\n",
       "      <td></td>\n",
       "      <td></td>\n",
       "      <td>V</td>\n",
       "    </tr>\n",
       "    <tr>\n",
       "      <th>4861</th>\n",
       "      <td>V_ref_1v133_untrimmed</td>\n",
       "      <td>hpbg_startup_trimall2</td>\n",
       "      <td>RUN0002</td>\n",
       "      <td>V_ref_1v133_untrimmed</td>\n",
       "      <td>nom</td>\n",
       "      <td>2.2</td>\n",
       "      <td>2.2</td>\n",
       "      <td>1.12</td>\n",
       "      <td>0.6</td>\n",
       "      <td>0</td>\n",
       "      <td>-40</td>\n",
       "      <td>64</td>\n",
       "      <td>16</td>\n",
       "      <td>NaN</td>\n",
       "      <td>1.136453</td>\n",
       "      <td></td>\n",
       "      <td></td>\n",
       "      <td></td>\n",
       "      <td></td>\n",
       "      <td>V</td>\n",
       "    </tr>\n",
       "    <tr>\n",
       "      <th>4862</th>\n",
       "      <td>V_ref_1v133_untrimmed</td>\n",
       "      <td>hpbg_startup_trimall2</td>\n",
       "      <td>RUN0003</td>\n",
       "      <td>V_ref_1v133_untrimmed</td>\n",
       "      <td>nom</td>\n",
       "      <td>2.2</td>\n",
       "      <td>2.2</td>\n",
       "      <td>1.16</td>\n",
       "      <td>0.6</td>\n",
       "      <td>0</td>\n",
       "      <td>-40</td>\n",
       "      <td>64</td>\n",
       "      <td>16</td>\n",
       "      <td>NaN</td>\n",
       "      <td>1.136481</td>\n",
       "      <td></td>\n",
       "      <td></td>\n",
       "      <td></td>\n",
       "      <td></td>\n",
       "      <td>V</td>\n",
       "    </tr>\n",
       "    <tr>\n",
       "      <th>4863</th>\n",
       "      <td>V_ref_1v133_untrimmed</td>\n",
       "      <td>hpbg_startup_trimall2</td>\n",
       "      <td>RUN0004</td>\n",
       "      <td>V_ref_1v133_untrimmed</td>\n",
       "      <td>nom</td>\n",
       "      <td>2.2</td>\n",
       "      <td>2.2</td>\n",
       "      <td>1.20</td>\n",
       "      <td>0.6</td>\n",
       "      <td>0</td>\n",
       "      <td>-40</td>\n",
       "      <td>64</td>\n",
       "      <td>16</td>\n",
       "      <td>NaN</td>\n",
       "      <td>1.136483</td>\n",
       "      <td></td>\n",
       "      <td></td>\n",
       "      <td></td>\n",
       "      <td></td>\n",
       "      <td>V</td>\n",
       "    </tr>\n",
       "    <tr>\n",
       "      <th>4864</th>\n",
       "      <td>V_ref_1v133_untrimmed</td>\n",
       "      <td>hpbg_startup_trimall2</td>\n",
       "      <td>RUN0005</td>\n",
       "      <td>V_ref_1v133_untrimmed</td>\n",
       "      <td>nom</td>\n",
       "      <td>2.2</td>\n",
       "      <td>2.2</td>\n",
       "      <td>1.24</td>\n",
       "      <td>0.6</td>\n",
       "      <td>0</td>\n",
       "      <td>-40</td>\n",
       "      <td>64</td>\n",
       "      <td>16</td>\n",
       "      <td>NaN</td>\n",
       "      <td>1.136455</td>\n",
       "      <td></td>\n",
       "      <td></td>\n",
       "      <td></td>\n",
       "      <td></td>\n",
       "      <td>V</td>\n",
       "    </tr>\n",
       "    <tr>\n",
       "      <th>...</th>\n",
       "      <td>...</td>\n",
       "      <td>...</td>\n",
       "      <td>...</td>\n",
       "      <td>...</td>\n",
       "      <td>...</td>\n",
       "      <td>...</td>\n",
       "      <td>...</td>\n",
       "      <td>...</td>\n",
       "      <td>...</td>\n",
       "      <td>...</td>\n",
       "      <td>...</td>\n",
       "      <td>...</td>\n",
       "      <td>...</td>\n",
       "      <td>...</td>\n",
       "      <td>...</td>\n",
       "      <td>...</td>\n",
       "      <td>...</td>\n",
       "      <td>...</td>\n",
       "      <td>...</td>\n",
       "      <td>...</td>\n",
       "    </tr>\n",
       "    <tr>\n",
       "      <th>5827</th>\n",
       "      <td>V_ref_1v133_untrimmed</td>\n",
       "      <td>hpbg_startup_trimall2</td>\n",
       "      <td>RUN0968</td>\n",
       "      <td>V_ref_1v133_untrimmed</td>\n",
       "      <td>nom</td>\n",
       "      <td>2.8</td>\n",
       "      <td>2.8</td>\n",
       "      <td>1.24</td>\n",
       "      <td>0.6</td>\n",
       "      <td>0</td>\n",
       "      <td>175</td>\n",
       "      <td>64</td>\n",
       "      <td>16</td>\n",
       "      <td>NaN</td>\n",
       "      <td>1.135183</td>\n",
       "      <td></td>\n",
       "      <td></td>\n",
       "      <td></td>\n",
       "      <td></td>\n",
       "      <td>V</td>\n",
       "    </tr>\n",
       "    <tr>\n",
       "      <th>5828</th>\n",
       "      <td>V_ref_1v133_untrimmed</td>\n",
       "      <td>hpbg_startup_trimall2</td>\n",
       "      <td>RUN0969</td>\n",
       "      <td>V_ref_1v133_untrimmed</td>\n",
       "      <td>nom</td>\n",
       "      <td>2.8</td>\n",
       "      <td>2.8</td>\n",
       "      <td>1.28</td>\n",
       "      <td>0.6</td>\n",
       "      <td>0</td>\n",
       "      <td>175</td>\n",
       "      <td>64</td>\n",
       "      <td>16</td>\n",
       "      <td>NaN</td>\n",
       "      <td>1.135178</td>\n",
       "      <td></td>\n",
       "      <td></td>\n",
       "      <td></td>\n",
       "      <td></td>\n",
       "      <td>V</td>\n",
       "    </tr>\n",
       "    <tr>\n",
       "      <th>5829</th>\n",
       "      <td>V_ref_1v133_untrimmed</td>\n",
       "      <td>hpbg_startup_trimall2</td>\n",
       "      <td>RUN0970</td>\n",
       "      <td>V_ref_1v133_untrimmed</td>\n",
       "      <td>nom</td>\n",
       "      <td>2.8</td>\n",
       "      <td>2.8</td>\n",
       "      <td>1.32</td>\n",
       "      <td>0.6</td>\n",
       "      <td>0</td>\n",
       "      <td>175</td>\n",
       "      <td>64</td>\n",
       "      <td>16</td>\n",
       "      <td>NaN</td>\n",
       "      <td>1.135178</td>\n",
       "      <td></td>\n",
       "      <td></td>\n",
       "      <td></td>\n",
       "      <td></td>\n",
       "      <td>V</td>\n",
       "    </tr>\n",
       "    <tr>\n",
       "      <th>5830</th>\n",
       "      <td>V_ref_1v133_untrimmed</td>\n",
       "      <td>hpbg_startup_trimall2</td>\n",
       "      <td>RUN0971</td>\n",
       "      <td>V_ref_1v133_untrimmed</td>\n",
       "      <td>nom</td>\n",
       "      <td>2.8</td>\n",
       "      <td>2.8</td>\n",
       "      <td>1.36</td>\n",
       "      <td>0.6</td>\n",
       "      <td>0</td>\n",
       "      <td>175</td>\n",
       "      <td>64</td>\n",
       "      <td>16</td>\n",
       "      <td>NaN</td>\n",
       "      <td>1.135173</td>\n",
       "      <td></td>\n",
       "      <td></td>\n",
       "      <td></td>\n",
       "      <td></td>\n",
       "      <td>V</td>\n",
       "    </tr>\n",
       "    <tr>\n",
       "      <th>5831</th>\n",
       "      <td>V_ref_1v133_untrimmed</td>\n",
       "      <td>hpbg_startup_trimall2</td>\n",
       "      <td>RUN0972</td>\n",
       "      <td>V_ref_1v133_untrimmed</td>\n",
       "      <td>nom</td>\n",
       "      <td>2.8</td>\n",
       "      <td>2.8</td>\n",
       "      <td>1.41</td>\n",
       "      <td>0.6</td>\n",
       "      <td>0</td>\n",
       "      <td>175</td>\n",
       "      <td>64</td>\n",
       "      <td>16</td>\n",
       "      <td>NaN</td>\n",
       "      <td>1.135193</td>\n",
       "      <td></td>\n",
       "      <td></td>\n",
       "      <td></td>\n",
       "      <td></td>\n",
       "      <td>V</td>\n",
       "    </tr>\n",
       "  </tbody>\n",
       "</table>\n",
       "<p>972 rows × 20 columns</p>\n",
       "</div>"
      ],
      "text/plain": [
       "            Parameter Label                Pattern      Run  \\\n",
       "4860  V_ref_1v133_untrimmed  hpbg_startup_trimall2  RUN0001   \n",
       "4861  V_ref_1v133_untrimmed  hpbg_startup_trimall2  RUN0002   \n",
       "4862  V_ref_1v133_untrimmed  hpbg_startup_trimall2  RUN0003   \n",
       "4863  V_ref_1v133_untrimmed  hpbg_startup_trimall2  RUN0004   \n",
       "4864  V_ref_1v133_untrimmed  hpbg_startup_trimall2  RUN0005   \n",
       "...                     ...                    ...      ...   \n",
       "5827  V_ref_1v133_untrimmed  hpbg_startup_trimall2  RUN0968   \n",
       "5828  V_ref_1v133_untrimmed  hpbg_startup_trimall2  RUN0969   \n",
       "5829  V_ref_1v133_untrimmed  hpbg_startup_trimall2  RUN0970   \n",
       "5830  V_ref_1v133_untrimmed  hpbg_startup_trimall2  RUN0971   \n",
       "5831  V_ref_1v133_untrimmed  hpbg_startup_trimall2  RUN0972   \n",
       "\n",
       "           Measurement Name corner  p_vdda_evr  p_vdda_hpbg  p_vddpd  p_vref  \\\n",
       "4860  V_ref_1v133_untrimmed    nom         2.2          2.2     1.08     0.6   \n",
       "4861  V_ref_1v133_untrimmed    nom         2.2          2.2     1.12     0.6   \n",
       "4862  V_ref_1v133_untrimmed    nom         2.2          2.2     1.16     0.6   \n",
       "4863  V_ref_1v133_untrimmed    nom         2.2          2.2     1.20     0.6   \n",
       "4864  V_ref_1v133_untrimmed    nom         2.2          2.2     1.24     0.6   \n",
       "...                     ...    ...         ...          ...      ...     ...   \n",
       "5827  V_ref_1v133_untrimmed    nom         2.8          2.8     1.24     0.6   \n",
       "5828  V_ref_1v133_untrimmed    nom         2.8          2.8     1.28     0.6   \n",
       "5829  V_ref_1v133_untrimmed    nom         2.8          2.8     1.32     0.6   \n",
       "5830  V_ref_1v133_untrimmed    nom         2.8          2.8     1.36     0.6   \n",
       "5831  V_ref_1v133_untrimmed    nom         2.8          2.8     1.41     0.6   \n",
       "\n",
       "      p_vss  temperature  trimbg  trimcur  Unnamed: 13     Value MC Mean  \\\n",
       "4860      0          -40      64       16          NaN  1.136468           \n",
       "4861      0          -40      64       16          NaN  1.136453           \n",
       "4862      0          -40      64       16          NaN  1.136481           \n",
       "4863      0          -40      64       16          NaN  1.136483           \n",
       "4864      0          -40      64       16          NaN  1.136455           \n",
       "...     ...          ...     ...      ...          ...       ...     ...   \n",
       "5827      0          175      64       16          NaN  1.135183           \n",
       "5828      0          175      64       16          NaN  1.135178           \n",
       "5829      0          175      64       16          NaN  1.135178           \n",
       "5830      0          175      64       16          NaN  1.135173           \n",
       "5831      0          175      64       16          NaN  1.135193           \n",
       "\n",
       "     MC Stddev Cp Cpk Unit  \n",
       "4860                     V  \n",
       "4861                     V  \n",
       "4862                     V  \n",
       "4863                     V  \n",
       "4864                     V  \n",
       "...        ... ..  ..  ...  \n",
       "5827                     V  \n",
       "5828                     V  \n",
       "5829                     V  \n",
       "5830                     V  \n",
       "5831                     V  \n",
       "\n",
       "[972 rows x 20 columns]"
      ]
     },
     "execution_count": 14,
     "metadata": {},
     "output_type": "execute_result"
    }
   ],
   "source": [
    "nom_cols =(reader['corner']=='nom') & (reader['Parameter Label']=='V_ref_1v133_untrimmed')\n",
    "validation_frame= reader[nom_cols]\n",
    "validation_frame\n"
   ]
  },
  {
   "cell_type": "code",
   "execution_count": 24,
   "metadata": {},
   "outputs": [
    {
     "data": {
      "text/plain": [
       "array([[-1.7344269 , -1.9127256 , -1.7281816 ],\n",
       "       [-1.7344269 , -1.4977787 , -1.7281816 ],\n",
       "       [-1.7344269 , -1.0828317 , -1.7281816 ],\n",
       "       ...,\n",
       "       [ 1.6534925 ,  0.576956  ,  2.0507877 ],\n",
       "       [ 1.6534925 ,  0.99190295,  2.0507877 ],\n",
       "       [ 1.6534925 ,  1.5105866 ,  2.0507877 ]], dtype=float32)"
      ]
     },
     "execution_count": 24,
     "metadata": {},
     "output_type": "execute_result"
    }
   ],
   "source": [
    "valid_real_ys=[]\n",
    "valid_real_Xs=[]\n",
    "for index, row in validation_frame.iterrows():\n",
    "    valid_real_ys.append(row['Value'])\n",
    "    valid_real_Xs.append([row['p_vdda_evr'], row['p_vddpd'], row['temperature']])\n",
    "\n",
    "# print(valid_real_Xs)\n",
    "valid_norm_Xs=np.array(transform_X.transform(valid_real_Xs),dtype=np.float32)\n",
    "valid_norm_Xs"
   ]
  },
  {
   "cell_type": "code",
   "execution_count": 64,
   "metadata": {},
   "outputs": [
    {
     "name": "stdout",
     "output_type": "stream",
     "text": [
      "36\n",
      "36\n",
      "36\n",
      "54\n",
      "54\n"
     ]
    }
   ],
   "source": [
    "\n",
    "print(len(norm_training_Xs.tolist()))\n",
    "print(len(opt_norm_Xs))\n",
    "print(len(opt_norm_ys))\n",
    "print(len(choices))\n",
    "print(len(values))"
   ]
  },
  {
   "cell_type": "code",
   "execution_count": 61,
   "metadata": {},
   "outputs": [],
   "source": [
    "opt_norm_Xs=norm_training_Xs.tolist()\n",
    "opt_norm_ys=norm_training_ys.tolist()\n"
   ]
  },
  {
   "cell_type": "code",
   "execution_count": 69,
   "metadata": {},
   "outputs": [
    {
     "name": "stdout",
     "output_type": "stream",
     "text": [
      "[3.1806081192196594e-07, 3.1806708670190127e-07, 3.1807379376437935e-07, 3.180649244520756e-07, 3.1808535459228085e-07, 3.180875092541533e-07, 3.1808963328889827e-07, 3.18082740233966e-07, 3.180814861247525e-07, 3.180949416171304e-07, 3.180957160648637e-07, 3.180907642321844e-07, 3.180934398985829e-07, 3.1807211147654023e-07, 3.181034606930721e-07, 3.180803384937161e-07, 3.180908132142777e-07, 3.180916833982037e-07, 3.1807710268067655e-07, 3.1809640405171396e-07, 3.181106265707489e-07, 3.181166764005156e-07, 3.1810969737007186e-07, 3.1811692830900473e-07, 3.1811760054382207e-07, 3.181180109320791e-07, 3.1811634812923434e-07, 3.1812066337865117e-07, 3.18118262568956e-07, 3.181164148542329e-07, 3.181021701927738e-07, 3.1811336201924194e-07, 3.1811955070413457e-07, 3.181115695947681e-07, 3.1809904641100183e-07, 3.1809888619437834e-07, 3.1809890273117987e-07, 3.180985965832675e-07, 3.180985997888799e-07, 3.181097776435797e-07, 3.1812571938189427e-07, 3.181061894160056e-07, 3.181080342225193e-07, 3.18107647197815e-07, 3.1811657579771944e-07, 3.181135209864174e-07, 3.181322014744792e-07, 3.181007414117153e-07, 3.180913578403986e-07, 3.181059959746015e-07, 3.180748158160019e-07, 3.1808344581679753e-07, 3.1807228880421403e-07, 3.1805576048705453e-07]\n"
     ]
    }
   ],
   "source": [
    "errs=[]\n",
    "smerrs=[]\n",
    "\n",
    "for i in range((len(choices))):\n",
    "    opt_norm_Xs.append(choices[i])\n",
    "    opt_norm_ys.append(values[i])\n",
    "\n",
    "    gp_model = tfd.GaussianProcessRegressionModel(\n",
    "        kernel=kernel,\n",
    "        index_points=valid_norm_Xs,\n",
    "        observation_index_points=opt_norm_Xs,\n",
    "        observations=opt_norm_ys,\n",
    "        observation_noise_variance=noise_var,\n",
    "        predictive_noise_variance=0.,\n",
    "        jitter=1e-4)\n",
    "    pred_norm_ys = gp_model.mean().numpy()\n",
    "    pred_real_ys = transform_y.inverse_transform(pred_norm_ys.reshape(-1,1))\n",
    "    valid_errs = pred_real_ys - valid_real_ys\n",
    "    errs.append(np.amax(valid_errs))\n",
    "    sqvalid_errs = np.square(valid_errs)\n",
    "    smerrs.append(np.mean(sqvalid_errs))\n",
    "    \n",
    "\n",
    "print(smerrs)"
   ]
  },
  {
   "cell_type": "code",
   "execution_count": 67,
   "metadata": {},
   "outputs": [
    {
     "data": {
      "image/png": "[encoded data removed]",
      "text/plain": [
       "<Figure size 864x288 with 1 Axes>"
      ]
     },
     "metadata": {
      "needs_background": "light"
     },
     "output_type": "display_data"
    }
   ],
   "source": [
    "plt.figure(figsize=(12, 4))\n",
    "plt.plot(errs)\n",
    "plt.xlabel(\"Optimization iteration\")\n",
    "plt.ylabel(\"Validation error\")\n",
    "# path = os.path.join(log_path, 'mean_regrets.png')\n",
    "# plt.savefig(path)\n",
    "plt.show()"
   ]
  },
  {
   "cell_type": "code",
   "execution_count": 70,
   "metadata": {},
   "outputs": [
    {
     "data": {
      "image/png": "[encoded data removed]",
      "text/plain": [
       "<Figure size 864x288 with 1 Axes>"
      ]
     },
     "metadata": {
      "needs_background": "light"
     },
     "output_type": "display_data"
    }
   ],
   "source": [
    "plt.figure(figsize=(12, 4))\n",
    "plt.plot(smerrs)\n",
    "plt.xlabel(\"Optimization iteration\")\n",
    "plt.ylabel(\"Validation error\")\n",
    "# path = os.path.join(log_path, 'mean_regrets.png')\n",
    "# plt.savefig(path)\n",
    "plt.show()"
   ]
  }
 ],
 "metadata": {
  "kernelspec": {
   "display_name": "Python 3 (ipykernel)",
   "language": "python",
   "name": "python3"
  },
  "language_info": {
   "codemirror_mode": {
    "name": "ipython",
    "version": 3
   },
   "file_extension": ".py",
   "mimetype": "text/x-python",
   "name": "python",
   "nbconvert_exporter": "python",
   "pygments_lexer": "ipython3",
   "version": "3.8.10"
  }
 },
 "nbformat": 4,
 "nbformat_minor": 1
}
