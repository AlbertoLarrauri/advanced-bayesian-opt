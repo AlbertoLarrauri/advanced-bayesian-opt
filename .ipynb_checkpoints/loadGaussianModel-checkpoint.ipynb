{
 "cells": [
  {
   "cell_type": "code",
   "execution_count": 1,
   "metadata": {
    "pycharm": {
     "is_executing": true
    }
   },
   "outputs": [
    {
     "name": "stderr",
     "output_type": "stream",
     "text": [
      "2022-01-16 21:21:20.477692: W tensorflow/stream_executor/platform/default/dso_loader.cc:64] Could not load dynamic library 'libcudart.so.11.0'; dlerror: libcudart.so.11.0: cannot open shared object file: No such file or directory; LD_LIBRARY_PATH: /opt/itsdm/packages/mosquitto-1.6.2/lib:/opt/itsdm/packages/libwebsocket-2.4.2/lib:/opt/lsf_10.1.0/10.1/linux3.10-glibc2.17-x86_64/lib\n",
      "2022-01-16 21:21:20.477719: I tensorflow/stream_executor/cuda/cudart_stub.cc:29] Ignore above cudart dlerror if you do not have a GPU set up on your machine.\n"
     ]
    }
   ],
   "source": [
    "import time\n",
    "# import IPython\n",
    "import os\n",
    "import json\n",
    "from datetime import datetime\n",
    "from pyswarm import pso\n",
    "import joblib\n",
    "import numpy as np\n",
    "import matplotlib.pyplot as plt\n",
    "# from mpl_toolkits.mplot3d import Axes3D\n",
    "import tensorflow.compat.v2 as tf\n",
    "import tensorflow_probability as tfp\n",
    "from tensorflow import keras\n",
    "import tensorflow.keras.backend as K\n",
    "\n",
    "\n",
    "from keras.models import Sequential, Model\n",
    "# from tensorflow.keras.layers import Input, Dense, Dropout, BatchNormalization, Lambda, Layer\n",
    "# from tensorflow.keras import losses\n",
    "# from keras.utils.vis_utils import plot_model, model_to_dot\n",
    "\n",
    "from sklearn.preprocessing import StandardScaler, MinMaxScaler\n",
    "import sklearn.preprocessing\n",
    "\n",
    "# from sklearn.model_selection import train_test_split\n",
    "# from sklearn.metrics import r2_score, mean_absolute_error, median_absolute_error\n",
    "\n",
    "K.set_floatx('float32')\n",
    "\n",
    "tfb = tfp.bijectors\n",
    "tfd = tfp.distributions\n",
    "tfk = tfp.math.psd_kernels\n",
    "\n",
    "tf.enable_v2_behavior()\n",
    "\n",
    "from tester.tester import Tester"
   ]
  },
  {
   "cell_type": "code",
   "execution_count": 3,
   "metadata": {
    "pycharm": {
     "name": "#%%\n"
    }
   },
   "outputs": [
    {
     "data": {
      "text/plain": [
       "'./2021_12_18_17_02_54'"
      ]
     },
     "execution_count": 3,
     "metadata": {},
     "output_type": "execute_result"
    }
   ],
   "source": [
    "log_path = os.path.join('.','2021_12_18_17_02_54')\n",
    "log_path"
   ]
  },
  {
   "cell_type": "code",
   "execution_count": 4,
   "metadata": {},
   "outputs": [
    {
     "data": {
      "text/plain": [
       "{'num_samples': 90,\n",
       " 'training_proportion': 0.4,\n",
       " 'log_std_coefficient': 4.0,\n",
       " 'constant_std_coefficient': 20.0}"
      ]
     },
     "execution_count": 4,
     "metadata": {},
     "output_type": "execute_result"
    }
   ],
   "source": [
    "path = os.path.join(log_path, 'run_stats.txt')\n",
    "with open(path, 'r') as file:\n",
    "    run_stats = json.load(file)    \n",
    "\n",
    "    \n",
    "num_samples = run_stats['num_samples']\n",
    "training_proportion = run_stats['training_proportion']\n",
    "optimization_proportion = 1. - training_proportion\n",
    "\n",
    "log_std_coefficient = run_stats['log_std_coefficient']\n",
    "constant_std_coefficient = run_stats['constant_std_coefficient']\n",
    "\n",
    "run_stats"
   ]
  },
  {
   "cell_type": "code",
   "execution_count": 5,
   "metadata": {},
   "outputs": [],
   "source": [
    "path = os.path.join(log_path, 'training.npyz')\n",
    "with open(path, 'rb') as file:\n",
    "    training_data = np.load(file)\n",
    "    training_Xs=training_data['points']\n",
    "    training_ys=training_data['values']\n",
    "    norm_training_Xs=training_data['norm_points']\n",
    "    norm_training_ys=training_data['norm_values']\n",
    "    lls_=training_data['loss']\n",
    "    amplitude= training_data['amplitude']\n",
    "    relevances= training_data['relevances']\n",
    "    noise_var= training_data['noise']\n",
    "    "
   ]
  },
  {
   "cell_type": "code",
   "execution_count": 6,
   "metadata": {},
   "outputs": [],
   "source": [
    "path=os.path.join(log_path,'scaler_X.pkl')\n",
    "sut_scaler_X = joblib.load(path)\n",
    "path=os.path.join(log_path,'scaler_y.pkl')\n",
    "sut_scaler_y = joblib.load(path)\n"
   ]
  },
  {
   "cell_type": "code",
   "execution_count": null,
   "metadata": {},
   "outputs": [],
   "source": []
  }
 ],
 "metadata": {
  "kernelspec": {
   "display_name": "Python 3 (ipykernel)",
   "language": "python",
   "name": "python3"
  },
  "language_info": {
   "codemirror_mode": {
    "name": "ipython",
    "version": 3
   },
   "file_extension": ".py",
   "mimetype": "text/x-python",
   "name": "python",
   "nbconvert_exporter": "python",
   "pygments_lexer": "ipython3",
   "version": "3.7.12"
  }
 },
 "nbformat": 4,
 "nbformat_minor": 1
}
