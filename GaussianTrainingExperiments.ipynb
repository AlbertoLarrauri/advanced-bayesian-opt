{
 "cells": [
  {
   "cell_type": "code",
   "execution_count": 1,
   "metadata": {
    "pycharm": {
     "is_executing": true
    }
   },
   "outputs": [
    {
     "name": "stderr",
     "output_type": "stream",
     "text": [
      "2022-02-23 12:54:22.922296: W tensorflow/stream_executor/platform/default/dso_loader.cc:64] Could not load dynamic library 'libcudart.so.11.0'; dlerror: libcudart.so.11.0: cannot open shared object file: No such file or directory\n",
      "2022-02-23 12:54:22.922330: I tensorflow/stream_executor/cuda/cudart_stub.cc:29] Ignore above cudart dlerror if you do not have a GPU set up on your machine.\n"
     ]
    }
   ],
   "source": [
    "import time\n",
    "# import IPython\n",
    "import os\n",
    "import json\n",
    "from datetime import datetime\n",
    "import pyswarm\n",
    "import pandas\n",
    "\n",
    "import joblib\n",
    "import numpy as np\n",
    "import matplotlib.pyplot as plt\n",
    "# from mpl_toolkits.mplot3d import Axes3D\n",
    "import tensorflow.compat.v2 as tf\n",
    "import tensorflow_probability as tfp\n",
    "from tensorflow import keras\n",
    "import tensorflow.keras.backend as K\n",
    "from pyswarm import pso\n",
    "\n",
    "\n",
    "from keras.models import Sequential, Model\n",
    "# from tensorflow.keras.layers import Input, Dense, Dropout, BatchNormalization, Lambda, Layer\n",
    "# from tensorflow.keras import losses\n",
    "# from keras.utils.vis_utils import plot_model, model_to_dot\n",
    "\n",
    "from sklearn.preprocessing import StandardScaler, MinMaxScaler\n",
    "import sklearn.preprocessing\n",
    "\n",
    "# from sklearn.model_selection import train_test_split\n",
    "# from sklearn.metrics import r2_score, mean_absolute_error, median_absolute_error\n",
    "\n",
    "K.set_floatx('float32')\n",
    "\n",
    "tfb = tfp.bijectors\n",
    "tfd = tfp.distributions\n",
    "tfk = tfp.math.psd_kernels\n",
    "\n",
    "tf.enable_v2_behavior()\n",
    "\n",
    "from tester.tester import Tester\n",
    "import random"
   ]
  },
  {
   "cell_type": "code",
   "execution_count": 2,
   "metadata": {
    "pycharm": {
     "name": "#%%\n"
    }
   },
   "outputs": [],
   "source": [
    "lb = [2.2, 1.08, -40.]  # lower bounds of the design variables, i.e. input params for the sut_model\n",
    "ub = [2.8, 1.41, 175.] \n",
    "# log_path = os.path.join('.','2022_02_02_11_45_57')\n",
    "# log_path"
   ]
  },
  {
   "cell_type": "code",
   "execution_count": 3,
   "metadata": {},
   "outputs": [
    {
     "name": "stdout",
     "output_type": "stream",
     "text": [
      "972\n",
      "972\n"
     ]
    }
   ],
   "source": [
    "with open('./validation_samples.csv', newline='') as csvfile:\n",
    "    reader = pandas.read_csv(csvfile,delimiter=';')\n",
    "\n",
    "nom_cols =(reader['corner']=='nom') & (reader['Parameter Label']=='V_ref_1v133_untrimmed')\n",
    "validation_frame= reader[nom_cols]\n",
    "valid_real_ys=[]\n",
    "valid_real_Xs=[]\n",
    "for index, row in validation_frame.iterrows():\n",
    "    valid_real_ys.append(row['Value'])\n",
    "    valid_real_Xs.append([row['p_vdda_evr'], row['p_vddpd'], row['temperature']])\n",
    "\n",
    "    \n",
    "print(len(valid_real_Xs))\n",
    "print(len(valid_real_ys))\n"
   ]
  },
  {
   "cell_type": "code",
   "execution_count": 4,
   "metadata": {},
   "outputs": [],
   "source": [
    "# Deterministic training\n",
    "\n",
    "# path = os.path.join('.', 'Predictions','training_points64.npyz')\n",
    "# with open(path, 'rb') as file:\n",
    "#     data = np.load(file)\n",
    "#     training_Xs=data['points']\n",
    "    \n",
    "# path = os.path.join('.', 'Predictions','training_values64.npyz')\n",
    "# with open(path, 'rb') as file:\n",
    "#     data = np.load(file)\n",
    "#     training_ys=data['values']\n",
    "\n",
    "# indices=[i for i in range (len(valid_real_Xs))]\n",
    "# validation_ids=indices\n",
    "\n",
    "# val_Xs=np.array([valid_real_Xs[i] for i in validation_ids])\n",
    "# val_ys=np.array([valid_real_ys[i] for i in validation_ids])"
   ]
  },
  {
   "cell_type": "code",
   "execution_count": 5,
   "metadata": {},
   "outputs": [],
   "source": [
    "# Random training\n",
    "\n",
    "indices=[i for i in range (len(valid_real_Xs))]\n",
    "training_ids=random.sample(indices,27)\n",
    "validation_ids=indices\n",
    "for val in training_ids:\n",
    "    validation_ids.remove(val)\n",
    "\n",
    "training_Xs=np.array([valid_real_Xs[i] for i in training_ids])\n",
    "training_ys=np.array([valid_real_ys[i] for i in training_ids])\n",
    "\n",
    "val_Xs=np.array([valid_real_Xs[i] for i in validation_ids])\n",
    "val_ys=np.array([valid_real_ys[i] for i in validation_ids])"
   ]
  },
  {
   "cell_type": "code",
   "execution_count": 6,
   "metadata": {},
   "outputs": [],
   "source": [
    "# Normalize the data\n",
    "transform_X = StandardScaler()\n",
    "norm_training_Xs = transform_X.fit_transform(training_Xs)\n",
    "norm_training_Xs = np.array(norm_training_Xs, dtype=np.float32)\n",
    "\n",
    "norm_val_Xs = transform_X.fit_transform(val_Xs)\n",
    "norm_val_Xs = np.array(norm_val_Xs, dtype=np.float32)\n",
    "\n",
    "\n",
    "transform_y = StandardScaler()\n",
    "norm_training_ys = transform_y.fit_transform(training_ys[..., np.newaxis]).ravel()\n",
    "norm_training_ys = np.array(norm_training_ys, dtype=np.float32)\n",
    "\n",
    "norm_val_ys = transform_y.fit_transform(val_ys[..., np.newaxis]).ravel()\n",
    "norm_val_ys = np.array(norm_val_ys, dtype=np.float32)\n"
   ]
  },
  {
   "cell_type": "code",
   "execution_count": 7,
   "metadata": {
    "scrolled": true
   },
   "outputs": [
    {
     "name": "stderr",
     "output_type": "stream",
     "text": [
      "2022-02-23 12:54:27.118200: W tensorflow/stream_executor/platform/default/dso_loader.cc:64] Could not load dynamic library 'libcuda.so.1'; dlerror: libcuda.so.1: cannot open shared object file: No such file or directory\n",
      "2022-02-23 12:54:27.118248: W tensorflow/stream_executor/cuda/cuda_driver.cc:269] failed call to cuInit: UNKNOWN ERROR (303)\n",
      "2022-02-23 12:54:27.118273: I tensorflow/stream_executor/cuda/cuda_diagnostics.cc:156] kernel driver does not appear to be running on this host (t460slalb): /proc/driver/nvidia/version does not exist\n",
      "2022-02-23 12:54:27.118687: I tensorflow/core/platform/cpu_feature_guard.cc:151] This TensorFlow binary is optimized with oneAPI Deep Neural Network Library (oneDNN) to use the following CPU instructions in performance-critical operations:  AVX2 FMA\n",
      "To enable them in other operations, rebuild TensorFlow with the appropriate compiler flags.\n",
      "2022-02-23 12:54:27.401070: W tensorflow/python/util/util.cc:368] Sets are not currently considered sequences, but this may change in the future, so consider avoiding using them.\n"
     ]
    },
    {
     "data": {
      "image/png": "[encoded data removed]",
      "text/plain": [
       "<Figure size 864x288 with 1 Axes>"
      ]
     },
     "metadata": {
      "needs_background": "light"
     },
     "output_type": "display_data"
    }
   ],
   "source": [
    "# Define trainable variables\n",
    "# We will use the squared exponential kernel with different relevances for each direction. We also consider some variance due to noise. \n",
    "\n",
    "constrain_positive = tfb.Shift(np.finfo(np.float32).tiny)(tfb.Exp())\n",
    "amplitude = tfp.util.TransformedVariable(\n",
    "    initial_value=1.,\n",
    "    bijector=constrain_positive,\n",
    "    name='amplitude',\n",
    "    dtype=np.float32)\n",
    "\n",
    "relevances = tfp.util.TransformedVariable(\n",
    "    initial_value=np.ones(3),\n",
    "    bijector=constrain_positive,\n",
    "    name='relevances',\n",
    "    dtype=np.float32)\n",
    "\n",
    "# noise_var = tfp.util.TransformedVariable(\n",
    "#     initial_value=0.01,\n",
    "#     bijector=constrain_positive,\n",
    "#     name='noise_variance',\n",
    "#     dtype=np.float32)\n",
    "noise_var = tf.constant(0.)\n",
    "\n",
    "# trainable_variables=[v.trainable_variables[0] for v in [amplitude, relevances, noise_var]]\n",
    "\n",
    "trainable_variables = [v.trainable_variables[0] for v in [amplitude, relevances]]\n",
    "\n",
    "# We define a Gaussian proccess with the chosen kernel that depends on our trainable variables\n",
    "\n",
    "kernel = tfk.ExponentiatedQuadratic(amplitude, length_scale=1.0)\n",
    "kernel = tfk.FeatureScaled(kernel, scale_diag=relevances)\n",
    "gp = tfd.GaussianProcess(\n",
    "    kernel=kernel,\n",
    "    index_points=norm_training_Xs,\n",
    "    observation_noise_variance=noise_var,\n",
    "    jitter=1e-5)\n",
    "\n",
    "\n",
    "# Define a tf.function for faster repeated evaluation \n",
    "@tf.function(autograph=False, experimental_compile=False)\n",
    "def log_likelihood():\n",
    "    return gp.log_prob(norm_training_ys)\n",
    "\n",
    "\n",
    "# Now we optimize the model parameters.\n",
    "num_iters = 2000\n",
    "optimizer = tf.optimizers.Adam(learning_rate=.01)\n",
    "\n",
    "# Store the likelihood values during training, so we can plot the progress\n",
    "lls_ = np.zeros(num_iters, np.float32)\n",
    "for i in range(num_iters):\n",
    "    with tf.GradientTape() as tape:\n",
    "        loss = -log_likelihood()\n",
    "        grads = tape.gradient(loss, trainable_variables)\n",
    "        optimizer.apply_gradients(zip(grads, trainable_variables))\n",
    "        lls_[i] = loss.numpy()\n",
    "\n",
    "# Plot the loss evolution as a sanity check\n",
    "plt.figure(figsize=(12, 4))\n",
    "plt.plot(lls_)\n",
    "plt.xlabel(\"Training iteration\")\n",
    "plt.ylabel(\"Log marginal likelihood\")\n",
    "# path = os.path.join(log_path, 'loss.png')\n",
    "plt.show()"
   ]
  },
  {
   "cell_type": "code",
   "execution_count": 8,
   "metadata": {},
   "outputs": [
    {
     "name": "stdout",
     "output_type": "stream",
     "text": [
      "Maximum error= 0.00025607836029051256\n",
      "RSME = 9.641660086348942e-05\n"
     ]
    }
   ],
   "source": [
    "gp_model = tfd.GaussianProcessRegressionModel(\n",
    "    kernel=kernel,\n",
    "    index_points=norm_val_Xs,\n",
    "    observation_index_points=norm_training_Xs,\n",
    "    observations=norm_training_ys,\n",
    "    observation_noise_variance=noise_var,\n",
    "    predictive_noise_variance=0.,\n",
    "    jitter=1e-4)\n",
    "pred_norm_ys = gp_model.mean().numpy()\n",
    "pred_real_ys = transform_y.inverse_transform(pred_norm_ys.reshape(-1,1)).flatten()\n",
    "\n",
    "valid_errs = pred_real_ys - val_ys\n",
    "print(\"Maximum error= {}\".format(np.amax(valid_errs)))\n",
    "print(\"RSME = {}\".format(np.sqrt(np.mean(np.square(valid_errs)))))\n"
   ]
  },
  {
   "cell_type": "code",
   "execution_count": 9,
   "metadata": {},
   "outputs": [],
   "source": [
    "# intervals=[ [lb[i], ub[i]] for i in range(3)]\n",
    "# intervals\n",
    "\n",
    "# partitions=[]\n",
    "\n",
    "# number=4\n",
    "\n",
    "\n",
    "# for i in range(3):\n",
    "#     interval=intervals[i]\n",
    "#     length=interval[1]-interval[0]\n",
    "#     step= length/(number+2)\n",
    "#     partition=[ (interval[0]+ (j+1)*step) for j in range(number)]\n",
    "#     partitions.append(partition)\n",
    "    \n",
    "# training_points=[]\n",
    "\n",
    "\n",
    "\n",
    "# for a in partitions[0]:\n",
    "#     for b in partitions[1]:\n",
    "#         for c in partitions[2]:\n",
    "#             training_points.append([a,b,c])\n",
    "\n",
    "\n",
    "    \n",
    "# print(len(training_points))\n",
    "\n",
    "# filepath = os.path.join('.', 'training_points64.npyz')\n",
    "# to_save = {\n",
    "#     'points': training_points,\n",
    "# }\n",
    "\n",
    "# with open(filepath, 'wb') as file:\n",
    "#     np.savez(file, **to_save)\n",
    "    \n"
   ]
  }
 ],
 "metadata": {
  "kernelspec": {
   "display_name": "Python 3 (ipykernel)",
   "language": "python",
   "name": "python3"
  },
  "language_info": {
   "codemirror_mode": {
    "name": "ipython",
    "version": 3
   },
   "file_extension": ".py",
   "mimetype": "text/x-python",
   "name": "python",
   "nbconvert_exporter": "python",
   "pygments_lexer": "ipython3",
   "version": "3.8.10"
  }
 },
 "nbformat": 4,
 "nbformat_minor": 1
}
